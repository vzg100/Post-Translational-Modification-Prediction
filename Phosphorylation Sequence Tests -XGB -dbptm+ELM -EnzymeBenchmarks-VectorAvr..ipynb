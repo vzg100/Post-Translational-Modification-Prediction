{
 "cells": [
  {
   "cell_type": "markdown",
   "metadata": {},
   "source": [
    "Template for test"
   ]
  },
  {
   "cell_type": "code",
   "execution_count": null,
   "metadata": {},
   "outputs": [
    {
     "name": "stderr",
     "output_type": "stream",
     "text": [
      "/Users/mark/anaconda3/lib/python3.6/site-packages/sklearn/cross_validation.py:44: DeprecationWarning: This module was deprecated in version 0.18 in favor of the model_selection module into which all the refactored classes and functions are moved. Also note that the interface of the new CV iterators are different from that of this module. This module will be removed in 0.20.\n",
      "  \"This module will be removed in 0.20.\", DeprecationWarning)\n"
     ]
    }
   ],
   "source": [
    "from pred import Predictor\n",
    "from pred import sequence_vector\n",
    "from pred import chemical_vector"
   ]
  },
  {
   "cell_type": "markdown",
   "metadata": {},
   "source": [
    "Controlling for Random Negatve vs Sans Random in Imbalanced Techniques using S, T, and Y Phosphorylation.\n",
    "\n",
    "Included is N Phosphorylation however no benchmarks are available, yet. \n",
    "\n",
    "\n",
    "Training data is from phospho.elm and benchmarks are from dbptm. \n",
    "\n",
    "Note: SMOTEEN seems to preform best"
   ]
  },
  {
   "cell_type": "code",
   "execution_count": null,
   "metadata": {},
   "outputs": [
    {
     "name": "stdout",
     "output_type": "stream",
     "text": [
      "y pass   Data/Benchmarks/phos_CDK1.csv\n",
      "Loading Data\n",
      "Loaded Data\n",
      "Working on Data\n",
      "Sample Vector [1, 10, 10, 18, 11, 3, 10, 3, 18, 18, 11, 2, 13, -0.20000000000000004, 34.430769230769236, 0.0]\n",
      "Finished working with Data\n",
      "Training Data Points: 200363\n",
      "Test Data Points: 50091\n",
      "Starting Training\n",
      "Done training\n",
      "Test Results\n",
      "Sensitivity: 0.08198336252189142\n",
      "Specificity : 0.9857160297887926\n",
      "Accuracy: 0.820885987502745\n",
      "ROC 0.533849696155\n",
      "TP 749 FP 585 TN 40370 FN 8387\n",
      "\n",
      "\n",
      "\n",
      "None\n",
      "Cross: Validation: [ 0.8181546   0.82138508  0.81920904  0.82102216  0.81978439]\n",
      "Number of data points in benchmark 1808\n",
      "Benchmark Results \n",
      "Sensitivity: 0.171875\n",
      "Specificity : 0.9827981651376146\n",
      "Accuracy: 0.9540929203539823\n",
      "ROC 0.577336582569\n",
      "TP 11 FP 30 TN 1714 FN 53\n",
      "\n",
      "\n",
      "\n",
      "None\n",
      "x pass   Data/Benchmarks/phos_CDK1.csv\n",
      "Loading Data\n",
      "Loaded Data\n",
      "Working on Data\n",
      "Sample Vector [14, 11, 19, 2, 16, 20, 10, 19, 20, 2, 10, 19, 10, -1.0, 9.169230769230774, 0.0]\n",
      "Finished working with Data\n",
      "Training Data Points: 200363\n",
      "Test Data Points: 50091\n",
      "Starting Training\n",
      "Done training\n",
      "Test Results\n",
      "Sensitivity: 0.07406612279948475\n",
      "Specificity : 0.9866584917228695\n",
      "Accuracy: 0.8169331816094708\n",
      "ROC 0.530362307261\n",
      "TP 690 FP 544 TN 40231 FN 8626\n",
      "\n",
      "\n",
      "\n",
      "None\n",
      "Cross: Validation: [ 0.82029067  0.8203869   0.8198878   0.82018367  0.82018367]\n",
      "Number of data points in benchmark 1808\n",
      "Benchmark Results \n",
      "Sensitivity: 0.140625\n",
      "Specificity : 0.9833715596330275\n",
      "Accuracy: 0.9535398230088495\n",
      "ROC 0.561998279817\n",
      "TP 9 FP 29 TN 1715 FN 55\n",
      "\n",
      "\n",
      "\n",
      "None\n",
      "y ADASYN   Data/Benchmarks/phos_CDK1.csv\n",
      "Loading Data\n",
      "Loaded Data\n",
      "Working on Data\n",
      "Sample Vector [1, 12, 10, 14, 2, 2, 10, 19, 15, 3, 12, 1, 8, 0.5846153846153845, 27.77692307692308, 0.07692307692307693]\n",
      "Balancing Data\n"
     ]
    }
   ],
   "source": [
    "par = [\"pass\", \"ADASYN\", \"SMOTEENN\", \"random_under_sample\", \"ncl\", \"near_miss\"]\n",
    "benchmarks = [\"Data/Benchmarks/phos_CDK1.csv\", \"Data/Benchmarks/phos_CK2.csv\", \"Data/Benchmarks/phos_MAPK1.csv\", \"Data/Benchmarks/phos_PKA.csv\", \"Data/Benchmarks/phos_PKC.csv\"]\n",
    "for j in benchmarks:\n",
    "    for i in par:\n",
    "        print(\"y\", i, \" \", j)\n",
    "        y = Predictor()\n",
    "        y.load_data(file=\"Data/Training/clean_s_filtered.csv\")\n",
    "        y.process_data(vector_function=\"sequence\", amino_acid=\"S\", imbalance_function=i, random_data=0)\n",
    "        y.supervised_training(\"xgb\")\n",
    "        y.benchmark(j, \"S\")\n",
    "        del y\n",
    "        print(\"x\", i, \" \", j)\n",
    "        x = Predictor()\n",
    "        x.load_data(file=\"Data/Training/clean_s_filtered.csv\")\n",
    "        x.process_data(vector_function=\"sequence\", amino_acid=\"S\", imbalance_function=i, random_data=1)\n",
    "        x.supervised_training(\"xgb\")\n",
    "        x.benchmark(j, \"S\")\n",
    "        del x\n"
   ]
  },
  {
   "cell_type": "markdown",
   "metadata": {},
   "source": [
    "Y Phosphorylation "
   ]
  },
  {
   "cell_type": "code",
   "execution_count": null,
   "metadata": {},
   "outputs": [],
   "source": [
    "par = [\"pass\", \"ADASYN\", \"SMOTEENN\", \"random_under_sample\", \"ncl\", \"near_miss\"]\n",
    "benchmarks = [\"Data/Benchmarks/phos_CDK1.csv\", \"Data/Benchmarks/phos_CK2.csv\", \"Data/Benchmarks/phos_MAPK1.csv\", \"Data/Benchmarks/phos_PKA.csv\", \"Data/Benchmarks/phos_PKC.csv\"]\n",
    "for j in benchmarks:\n",
    "    for i in par:\n",
    "        try:\n",
    "            print(\"y\", i, \" \", j)\n",
    "            y = Predictor()\n",
    "            y.load_data(file=\"Data/Training/clean_Y_filtered.csv\")\n",
    "            y.process_data(vector_function=\"sequence\", amino_acid=\"Y\", imbalance_function=i, random_data=0)\n",
    "            y.supervised_training(\"bagging\")\n",
    "            y.benchmark(j, \"Y\")\n",
    "            del y\n",
    "            print(\"x\", i, \" \", j)\n",
    "            x = Predictor()\n",
    "            x.load_data(file=\"Data/Training/clean_Y_filtered.csv\")\n",
    "            x.process_data(vector_function=\"sequence\", amino_acid=\"Y\", imbalance_function=i, random_data=1)\n",
    "            x.supervised_training(\"bagging\")\n",
    "            x.benchmark(j, \"Y\")\n",
    "            del x\n",
    "        except:\n",
    "            print(\"Benchmark not relevant\")"
   ]
  },
  {
   "cell_type": "markdown",
   "metadata": {},
   "source": [
    "T Phosphorylation "
   ]
  },
  {
   "cell_type": "code",
   "execution_count": null,
   "metadata": {
    "scrolled": false
   },
   "outputs": [],
   "source": [
    "par = [\"pass\", \"ADASYN\", \"SMOTEENN\", \"random_under_sample\", \"ncl\", \"near_miss\"]\n",
    "benchmarks = [\"Data/Benchmarks/phos_CDK1.csv\", \"Data/Benchmarks/phos_CK2.csv\", \"Data/Benchmarks/phos_MAPK1.csv\", \"Data/Benchmarks/phos_PKA.csv\", \"Data/Benchmarks/phos_PKC.csv\"]\n",
    "for j in benchmarks:\n",
    "    for i in par:\n",
    "        print(\"y\", i, \" \", j)\n",
    "        y = Predictor()\n",
    "        y.load_data(file=\"Data/Training/clean_t_filtered.csv\")\n",
    "        y.process_data(vector_function=\"sequence\", amino_acid=\"T\", imbalance_function=i, random_data=0)\n",
    "        y.supervised_training(\"xgb\")\n",
    "        y.benchmark(j, \"T\")\n",
    "        del y\n",
    "        print(\"x\", i, \" \", j)\n",
    "        x = Predictor()\n",
    "        x.load_data(file=\"Data/Training/clean_t_filtered.csv\")\n",
    "        x.process_data(vector_function=\"sequence\", amino_acid=\"T\", imbalance_function=i, random_data=1)\n",
    "        x.supervised_training(\"xgb\")\n",
    "        x.benchmark(j, \"T\")\n",
    "        del x"
   ]
  },
  {
   "cell_type": "code",
   "execution_count": null,
   "metadata": {
    "collapsed": true
   },
   "outputs": [],
   "source": []
  }
 ],
 "metadata": {
  "kernelspec": {
   "display_name": "Python 3",
   "language": "python",
   "name": "python3"
  },
  "language_info": {
   "codemirror_mode": {
    "name": "ipython",
    "version": 3
   },
   "file_extension": ".py",
   "mimetype": "text/x-python",
   "name": "python",
   "nbconvert_exporter": "python",
   "pygments_lexer": "ipython3",
   "version": "3.6.2"
  }
 },
 "nbformat": 4,
 "nbformat_minor": 2
}
