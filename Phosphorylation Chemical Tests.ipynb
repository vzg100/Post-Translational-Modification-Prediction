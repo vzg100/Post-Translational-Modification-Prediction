{
 "cells": [
  {
   "cell_type": "markdown",
   "metadata": {},
   "source": [
    "Template for test"
   ]
  },
  {
   "cell_type": "code",
   "execution_count": null,
   "metadata": {
    "collapsed": true
   },
   "outputs": [],
   "source": [
    "from pred import Predictor\n",
    "from pred import sequence_vector\n",
    "from pred import chemical_vector"
   ]
  },
  {
   "cell_type": "markdown",
   "metadata": {},
   "source": [
    "Controlling for Random Negatve vs Sans Random in Imbalanced Techniques using S, T, and Y Phosphorylation.\n",
    "\n",
    "Included is N Phosphorylation however no benchmarks are available, yet. \n",
    "\n",
    "\n",
    "Training data is from phospho.elm and benchmarks are from dbptm. "
   ]
  },
  {
   "cell_type": "code",
   "execution_count": null,
   "metadata": {},
   "outputs": [
    {
     "name": "stdout",
     "output_type": "stream",
     "text": [
      "y pass\n",
      "Loading Data\n",
      "Loaded Data\n",
      "Working on Data\n",
      "Finished working with Data\n",
      "Training Data Points: 162268\n",
      "Test Data Points: 18030\n",
      "Starting Training\n",
      "Done training\n",
      "Test Results\n",
      "Failed\n",
      "TP 0 FP 0 TN 17742 FN 288\n",
      "\n",
      "\n",
      "\n",
      "None\n",
      "Benchmark Results \n",
      "Failed\n",
      "TP 0 FP 0 TN 62517 FN 3378\n",
      "\n",
      "\n",
      "\n",
      "None\n",
      "x pass\n",
      "Loading Data\n",
      "Loaded Data\n",
      "Working on Data\n",
      "Finished working with Data\n",
      "Random Sequences Generated 180298\n",
      "Filtering Random Data\n",
      "Random Data Added: 180298\n",
      "Finished with Random Data\n",
      "Training Data Points: 342566\n",
      "Test Data Points: 18030\n",
      "Starting Training\n",
      "Done training\n",
      "Test Results\n",
      "Failed\n",
      "TP 0 FP 0 TN 17706 FN 324\n",
      "\n",
      "\n",
      "\n",
      "None\n",
      "Benchmark Results \n",
      "Failed\n",
      "TP 0 FP 0 TN 62517 FN 3378\n",
      "\n",
      "\n",
      "\n",
      "None\n",
      "y ADASYN\n",
      "Loading Data\n",
      "Loaded Data\n",
      "Working on Data\n",
      "Balancing Data\n",
      "Balanced Data\n",
      "Finished working with Data\n",
      "Training Data Points: 319478\n",
      "Test Data Points: 35498\n",
      "Starting Training\n",
      "Done training\n",
      "Test Results\n",
      "Sensitivity: 0.6595503709156804\n",
      "Specificity : 0.5859072817983071\n",
      "Accuracy: 0.6225421150487351\n",
      "ROC 0.622728826357\n",
      "TP 11647 FP 7387 TN 10452 FN 6012\n",
      "\n",
      "\n",
      "\n",
      "None\n",
      "Benchmark Results \n",
      "Sensitivity: 0.6950858496151568\n",
      "Specificity : 0.6395540413007662\n",
      "Accuracy: 0.6424007891342287\n",
      "ROC 0.667319945458\n",
      "TP 2348 FP 22534 TN 39983 FN 1030\n",
      "\n",
      "\n",
      "\n",
      "None\n",
      "x ADASYN\n",
      "Loading Data\n",
      "Loaded Data\n",
      "Working on Data\n",
      "Balancing Data\n"
     ]
    }
   ],
   "source": [
    "par = [\"pass\", \"ADASYN\", \"SMOTEENN\", \"random_under_sample\", \"ncl\", \"near_miss\"]\n",
    "for i in par:\n",
    "    print(\"y\", i)\n",
    "    y = Predictor()\n",
    "    y.load_data(file=\"Data/Training/clean_s.csv\")\n",
    "    y.process_data(vector_function=\"chemical\", amino_acid=\"S\", imbalance_function=i, random_data=0)\n",
    "    y.supervised_training(\"mlp_adam\")\n",
    "    y.benchmark(\"Data/Benchmarks/phos.csv\", \"S\")\n",
    "    del y\n",
    "    print(\"x\", i)\n",
    "    x = Predictor()\n",
    "    x.load_data(file=\"Data/Training/clean_s.csv\")\n",
    "    x.process_data(vector_function=\"chemical\", amino_acid=\"S\", imbalance_function=i, random_data=1)\n",
    "    x.supervised_training(\"mlp_adam\")\n",
    "    x.benchmark(\"Data/Benchmarks/phos.csv\", \"S\")\n",
    "    del x\n"
   ]
  },
  {
   "cell_type": "markdown",
   "metadata": {},
   "source": [
    "Y Phosphorylation "
   ]
  },
  {
   "cell_type": "code",
   "execution_count": null,
   "metadata": {
    "collapsed": true
   },
   "outputs": [],
   "source": [
    "par = [\"pass\", \"ADASYN\", \"SMOTEENN\", \"random_under_sample\", \"ncl\", \"near_miss\"]\n",
    "for i in par:\n",
    "    print(\"y\", i)\n",
    "    y = Predictor()\n",
    "    y.load_data(file=\"Data/Training/clean_Y.csv\")\n",
    "    y.process_data(vector_function=\"chemical\", amino_acid=\"Y\", imbalance_function=i, random_data=0)\n",
    "    y.supervised_training(\"mlp_adam\")\n",
    "    y.benchmark(\"Data/Benchmarks/phos.csv\", \"Y\")\n",
    "    del y\n",
    "    print(\"x\", i)\n",
    "    x = Predictor()\n",
    "    x.load_data(file=\"Data/Training/clean_Y.csv\")\n",
    "    x.process_data(vector_function=\"chemical\", amino_acid=\"Y\", imbalance_function=i, random_data=1)\n",
    "    x.supervised_training(\"mlp_adam\")\n",
    "    x.benchmark(\"Data/Benchmarks/phos.csv\", \"Y\")\n",
    "    del x\n"
   ]
  },
  {
   "cell_type": "markdown",
   "metadata": {},
   "source": [
    "T Phosphorylation "
   ]
  },
  {
   "cell_type": "code",
   "execution_count": null,
   "metadata": {
    "collapsed": true
   },
   "outputs": [],
   "source": [
    "par = [\"pass\", \"ADASYN\", \"SMOTEENN\", \"random_under_sample\", \"ncl\", \"near_miss\"]\n",
    "for i in par:\n",
    "    print(\"y\", i)\n",
    "    y = Predictor()\n",
    "    y.load_data(file=\"Data/Training/clean_t.csv\")\n",
    "    y.process_data(vector_function=\"chemical\", amino_acid=\"T\", imbalance_function=i, random_data=0)\n",
    "    y.supervised_training(\"mlp_adam\")\n",
    "    y.benchmark(\"Data/Benchmarks/phos.csv\", \"T\")\n",
    "    del y\n",
    "    print(\"x\", i)\n",
    "    x = Predictor()\n",
    "    x.load_data(file=\"Data/Training/clean_t.csv\")\n",
    "    x.process_data(vector_function=\"chemical\", amino_acid=\"T\", imbalance_function=i, random_data=1)\n",
    "    x.supervised_training(\"mlp_adam\")\n",
    "    x.benchmark(\"Data/Benchmarks/phos.csv\", \"T\")\n",
    "    del x\n"
   ]
  },
  {
   "cell_type": "code",
   "execution_count": null,
   "metadata": {
    "collapsed": true
   },
   "outputs": [],
   "source": []
  }
 ],
 "metadata": {
  "kernelspec": {
   "display_name": "Python 3",
   "language": "python",
   "name": "python3"
  },
  "language_info": {
   "codemirror_mode": {
    "name": "ipython",
    "version": 3
   },
   "file_extension": ".py",
   "mimetype": "text/x-python",
   "name": "python",
   "nbconvert_exporter": "python",
   "pygments_lexer": "ipython3",
   "version": "3.6.2"
  }
 },
 "nbformat": 4,
 "nbformat_minor": 2
}
