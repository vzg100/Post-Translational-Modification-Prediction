{
 "cells": [
  {
   "cell_type": "code",
   "execution_count": 1,
   "metadata": {},
   "outputs": [
    {
     "name": "stderr",
     "output_type": "stream",
     "text": [
      "/Users/mark/anaconda3/lib/python3.6/site-packages/sklearn/cross_validation.py:44: DeprecationWarning: This module was deprecated in version 0.18 in favor of the model_selection module into which all the refactored classes and functions are moved. Also note that the interface of the new CV iterators are different from that of this module. This module will be removed in 0.20.\n",
      "  \"This module will be removed in 0.20.\", DeprecationWarning)\n"
     ]
    }
   ],
   "source": [
    "from pred import Predictor\n",
    "from pred import sequence_vector\n",
    "from pred import chemical_vector\n"
   ]
  },
  {
   "cell_type": "markdown",
   "metadata": {},
   "source": [
    "Serine Phosphorylation Test No Gridsearch"
   ]
  },
  {
   "cell_type": "code",
   "execution_count": null,
   "metadata": {
    "scrolled": true
   },
   "outputs": [
    {
     "name": "stdout",
     "output_type": "stream",
     "text": [
      "Loading Data\n",
      "Loaded Data\n",
      "Working on Data\n",
      "Sample Vector [2, 10, 8, 9, 9, 1, 10, 2, 10, 10, 20, 0, 0, -1.0181818181818183, 91.25454545454546, 0.0]\n",
      "Finished working with Data\n",
      "y xgb pass\n",
      "Training Data Points: 200363\n",
      "Test Data Points: 50091\n",
      "Starting Training\n",
      "Done training\n",
      "Test Results\n",
      "Matthews Correlation Coeff:  0.168974889688\n",
      "TP 755 FP 524 TN 40301 FN 8511\n",
      "\n",
      "\n",
      "\n",
      "None\n",
      "Cross Validation: 0.167704113426\n",
      "Number of data points in benchmark 65895\n",
      "Sample Vector [12, 20, 9, 2, 9, 18, 10, 8, 16, 8, 8, 7, 9, -2.0846153846153843, 47.14615384615385, 0.0]\n",
      "Benchmark Results \n",
      "Matthews Correlation Coeff:  0.00394202363997\n",
      "TP 61 FP 989 TN 61528 FN 3317\n",
      "\n",
      "\n",
      "\n",
      "None\n",
      "y mlp_adam pass\n",
      "Training Data Points: 200363\n",
      "Test Data Points: 50091\n",
      "Starting Training\n",
      "Done training\n",
      "Test Results\n",
      "Matthews Correlation Coeff:  0.115014028525\n",
      "TP 529 FP 564 TN 40261 FN 8737\n",
      "\n",
      "\n",
      "\n",
      "None\n",
      "Cross Validation: 0.0743494112139\n",
      "Number of data points in benchmark 65895\n",
      "Sample Vector [12, 20, 9, 2, 9, 18, 10, 8, 16, 8, 8, 7, 9, -2.0846153846153843, 47.14615384615385, 0.0]\n",
      "Benchmark Results \n",
      "Matthews Correlation Coeff:  -0.00911327624776\n",
      "TP 26 FP 762 TN 61755 FN 3352\n",
      "\n",
      "\n",
      "\n",
      "None\n",
      "y forest pass\n",
      "Training Data Points: 200363\n",
      "Test Data Points: 50091\n",
      "Starting Training\n",
      "Done training\n",
      "Test Results\n",
      "Matthews Correlation Coeff:  0.132310577256\n",
      "TP 1191 FP 1900 TN 38925 FN 8075\n",
      "\n",
      "\n",
      "\n",
      "None\n",
      "Cross Validation: 0.127143093098\n",
      "Number of data points in benchmark 65895\n",
      "Sample Vector [12, 20, 9, 2, 9, 18, 10, 8, 16, 8, 8, 7, 9, -2.0846153846153843, 47.14615384615385, 0.0]\n",
      "Benchmark Results \n",
      "Matthews Correlation Coeff:  0.166814728574\n",
      "TP 854 FP 3750 TN 58767 FN 2524\n",
      "\n",
      "\n",
      "\n",
      "None\n",
      "y svc pass\n",
      "Training Data Points: 200363\n",
      "Test Data Points: 50091\n",
      "Starting Training\n",
      "[LibSVM]"
     ]
    }
   ],
   "source": [
    "classy = [\"xgb\", \"mlp_adam\", \"forest\", \"svc\", \"bagging\"]\n",
    "par = [\"pass\", \"ADASYN\", \"SMOTEENN\", \"random_under_sample\", \"ncl\", \"near_miss\"]\n",
    "best_score = 0\n",
    "best_params = []\n",
    "\n",
    "for i in par:\n",
    "    y = Predictor()\n",
    "    y.load_data(file=\"Data/Training/clean_s_filtered.csv\")\n",
    "    y.process_data(vector_function=\"sequence\", amino_acid=\"S\", imbalance_function=i, random_data=0)\n",
    "    for j in classy:\n",
    "        print(\"y\",j, i)\n",
    "        y.supervised_training(j)\n",
    "        y.benchmark(\"Data/Benchmarks/phos.csv\", \"S\")\n",
    "        if y.benchmark_mcc > best_score:\n",
    "            best_score = y.benchmark_mcc\n",
    "            best_params = [\"y\", i, j]\n",
    "    del y\n",
    "    print(\"x\",j , i)\n",
    "    x = Predictor()\n",
    "    x.load_data(file=\"Data/Training/clean_s_filtered.csv\")\n",
    "    x.process_data(vector_function=\"sequence\", amino_acid=\"S\", imbalance_function=i, random_data=1)\n",
    "    for j in classy:\n",
    "        print(\"x\",j, i)\n",
    "        x.supervised_training(j)\n",
    "        x.benchmark(\"Data/Benchmarks/phos.csv\", \"S\")\n",
    "        if x.benchmark_mcc > best_score:\n",
    "            best_score = x.benchmark_mcc\n",
    "            best_params = [\"x\", i, j]\n",
    "    x.benchmark(\"Data/Benchmarks/phos.csv\", \"S\")\n",
    "    if x.benchmark_mcc > best_score:\n",
    "        best_score = x.benchmark_mcc\n",
    "        best_params = [\"x\", i, j]\n",
    "        del x\n",
    "print(\"Best Score\")\n",
    "print(best_score)\n",
    "print(best_params)"
   ]
  },
  {
   "cell_type": "markdown",
   "metadata": {},
   "source": [
    "Threonine Phosphorylation No Grid search "
   ]
  },
  {
   "cell_type": "code",
   "execution_count": null,
   "metadata": {
    "collapsed": true
   },
   "outputs": [],
   "source": [
    "classy = [\"xgb\", \"mlp_adam\", \"forest\", \"svc\", \"bagging\"]\n",
    "par = [\"pass\", \"ADASYN\", \"SMOTEENN\", \"random_under_sample\", \"ncl\", \"near_miss\"]\n",
    "best_score = 0\n",
    "best_params = []\n",
    "for j in classy:\n",
    "    for i in par:\n",
    "        print(\"y\",j, i)\n",
    "        y = Predictor()\n",
    "        y.load_data(file=\"Data/Training/clean_t_filtered.csv\")\n",
    "        y.process_data(vector_function=\"sequence\", amino_acid=\"T\", imbalance_function=i, random_data=0)\n",
    "        y.supervised_training(j)\n",
    "        y.benchmark(\"Data/Benchmarks/phos.csv\", \"T\")\n",
    "        if y.benchmark_mcc > best_score:\n",
    "            best_score = y.benchmark_mcc\n",
    "            best_params = [\"y\", i, j]\n",
    "        del y\n",
    "        print(\"x\",j , i)\n",
    "        x = Predictor()\n",
    "        x.load_data(file=\"Data/Training/clean_t_filtered.csv\")\n",
    "        x.process_data(vector_function=\"sequence\", amino_acid=\"T\", imbalance_function=i, random_data=1)\n",
    "        x.supervised_training(j)\n",
    "        x.benchmark(\"Data/Benchmarks/phos.csv\", \"T\")\n",
    "        if x.benchmark_mcc > best_score:\n",
    "            best_score = x.benchmark_mcc\n",
    "            best_params = [\"x\", i, j]\n",
    "        del x\n",
    "print(\"Best Score\")\n",
    "print(best_score)\n",
    "print(best_params)"
   ]
  },
  {
   "cell_type": "markdown",
   "metadata": {},
   "source": [
    "Tyrosine Phopshorylation No Grid Search "
   ]
  },
  {
   "cell_type": "code",
   "execution_count": null,
   "metadata": {
    "collapsed": true
   },
   "outputs": [],
   "source": [
    "classy = [\"xgb\", \"mlp_adam\", \"forest\", \"svc\", \"bagging\"]\n",
    "par = [\"pass\", \"ADASYN\", \"SMOTEENN\", \"random_under_sample\", \"ncl\", \"near_miss\"]\n",
    "best_score = 0\n",
    "best_params = []\n",
    "for j in classy:\n",
    "    for i in par:\n",
    "        print(\"y\",j, i)\n",
    "        y = Predictor()\n",
    "        y.load_data(file=\"Data/Training/clean_Y_filtered.csv\")\n",
    "        y.process_data(vector_function=\"sequence\", amino_acid=\"Y\", imbalance_function=i, random_data=0)\n",
    "        y.supervised_training(j)\n",
    "        y.benchmark(\"Data/Benchmarks/phos.csv\", \"Y\")\n",
    "        if y.benchmark_mcc > best_score:\n",
    "            best_score = y.benchmark_mcc\n",
    "            best_params = [\"y\", i, j]\n",
    "        del y\n",
    "        print(\"x\",j , i)\n",
    "        x = Predictor()\n",
    "        x.load_data(file=\"Data/Training/clean_Y_filtered.csv\")\n",
    "        x.process_data(vector_function=\"sequence\", amino_acid=\"Y\", imbalance_function=i, random_data=1)\n",
    "        x.supervised_training(j)\n",
    "        x.benchmark(\"Data/Benchmarks/phos.csv\", \"Y\")\n",
    "        if x.benchmark_mcc > best_score:\n",
    "            best_score = x.benchmark_mcc\n",
    "            best_params = [\"x\", i, j]\n",
    "        del x\n",
    "print(\"Best Score\")\n",
    "print(best_score)\n",
    "print(best_params)"
   ]
  },
  {
   "cell_type": "markdown",
   "metadata": {},
   "source": [
    "Lysine Acetylation No Grid Search"
   ]
  },
  {
   "cell_type": "code",
   "execution_count": null,
   "metadata": {
    "collapsed": true
   },
   "outputs": [],
   "source": [
    "classy = [\"xgb\", \"mlp_adam\", \"forest\", \"svc\", \"bagging\"]\n",
    "par = [\"pass\", \"ADASYN\", \"SMOTEENN\", \"random_under_sample\", \"ncl\", \"near_miss\"]\n",
    "best_score = 0\n",
    "best_params = []\n",
    "for j in classy:\n",
    "    for i in par:\n",
    "        print(\"y\",j, i)\n",
    "        y = Predictor()\n",
    "        y.load_data(file=\"Data/Training/k_acetylation.csv\")\n",
    "        y.process_data(vector_function=\"sequence\", amino_acid=\"K\", imbalance_function=i, random_data=0)\n",
    "        y.supervised_training(j)\n",
    "        y.benchmark(\"Data/Benchmarks/acet.csv\", \"K\")\n",
    "        if y.benchmark_mcc > best_score:\n",
    "            best_score = y.benchmark_mcc\n",
    "            best_params = [\"y\", i, j]\n",
    "        del y\n",
    "        print(\"x\",j , i)\n",
    "        x = Predictor()\n",
    "        x.load_data(file=\"Data/Training/k_acetylation.csv\")\n",
    "        x.process_data(vector_function=\"sequence\", amino_acid=\"K\", imbalance_function=i, random_data=1)\n",
    "        x.supervised_training(j)\n",
    "        x.benchmark(\"Data/Benchmarks/acet.csv\", \"K\")\n",
    "        if x.benchmark_mcc > best_score:\n",
    "            best_score = x.benchmark_mcc\n",
    "            best_params = [\"x\", i, j]\n",
    "        del x\n",
    "print(\"Best Score\")\n",
    "print(best_score)\n",
    "print(best_params)"
   ]
  },
  {
   "cell_type": "markdown",
   "metadata": {},
   "source": [
    "Lysine Methylation No Grid Search"
   ]
  },
  {
   "cell_type": "code",
   "execution_count": null,
   "metadata": {
    "collapsed": true
   },
   "outputs": [],
   "source": [
    "classy = [\"xgb\", \"mlp_adam\", \"forest\", \"svc\", \"bagging\"]\n",
    "par = [\"pass\", \"ADASYN\", \"SMOTEENN\", \"random_under_sample\", \"ncl\", \"near_miss\"]\n",
    "best_score = 0\n",
    "best_params = []\n",
    "for j in classy:\n",
    "    for i in par:\n",
    "        print(\"y\",j, i)\n",
    "        y = Predictor()\n",
    "        y.load_data(file=\"Data/Training/k_methylation.csv\")\n",
    "        y.process_data(vector_function=\"sequence\", amino_acid=\"K\", imbalance_function=i, random_data=0)\n",
    "        y.supervised_training(j)\n",
    "        y.benchmark(\"Data/Benchmarks/methylation.csv\", \"K\")\n",
    "        if y.benchmark_mcc > best_score:\n",
    "            best_score = y.benchmark_mcc\n",
    "            best_params = [\"y\", i, j]\n",
    "        del y\n",
    "        print(\"x\",j , i)\n",
    "        x = Predictor()\n",
    "        x.load_data(file=\"Data/Training/k_methylation.csv\")\n",
    "        x.process_data(vector_function=\"sequence\", amino_acid=\"K\", imbalance_function=i, random_data=1)\n",
    "        x.supervised_training(j)\n",
    "        x.benchmark(\"Data/Benchmarks/methylation.csv\", \"K\")\n",
    "        if x.benchmark_mcc > best_score:\n",
    "            best_score = x.benchmark_mcc\n",
    "            best_params = [\"x\", i, j]\n",
    "        del x\n",
    "print(\"Best Score\")\n",
    "print(best_score)\n",
    "print(best_params)"
   ]
  },
  {
   "cell_type": "code",
   "execution_count": null,
   "metadata": {
    "collapsed": true
   },
   "outputs": [],
   "source": []
  }
 ],
 "metadata": {
  "kernelspec": {
   "display_name": "Python 3",
   "language": "python",
   "name": "python3"
  },
  "language_info": {
   "codemirror_mode": {
    "name": "ipython",
    "version": 3
   },
   "file_extension": ".py",
   "mimetype": "text/x-python",
   "name": "python",
   "nbconvert_exporter": "python",
   "pygments_lexer": "ipython3",
   "version": "3.6.2"
  }
 },
 "nbformat": 4,
 "nbformat_minor": 2
}
