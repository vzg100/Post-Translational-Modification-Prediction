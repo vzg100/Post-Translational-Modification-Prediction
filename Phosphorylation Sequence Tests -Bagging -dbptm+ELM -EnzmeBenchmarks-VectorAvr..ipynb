{
 "cells": [
  {
   "cell_type": "markdown",
   "metadata": {},
   "source": [
    "Template for test"
   ]
  },
  {
   "cell_type": "code",
   "execution_count": null,
   "metadata": {},
   "outputs": [
    {
     "name": "stderr",
     "output_type": "stream",
     "text": [
      "/Users/mark/anaconda3/lib/python3.6/site-packages/sklearn/cross_validation.py:44: DeprecationWarning: This module was deprecated in version 0.18 in favor of the model_selection module into which all the refactored classes and functions are moved. Also note that the interface of the new CV iterators are different from that of this module. This module will be removed in 0.20.\n",
      "  \"This module will be removed in 0.20.\", DeprecationWarning)\n"
     ]
    }
   ],
   "source": [
    "from pred import Predictor\n",
    "from pred import sequence_vector\n",
    "from pred import chemical_vector"
   ]
  },
  {
   "cell_type": "markdown",
   "metadata": {},
   "source": [
    "Controlling for Random Negatve vs Sans Random in Imbalanced Techniques using S, T, and Y Phosphorylation.\n",
    "\n",
    "Included is N Phosphorylation however no benchmarks are available, yet. \n",
    "\n",
    "\n",
    "Training data is from phospho.elm and benchmarks are from dbptm. \n",
    "\n",
    "Note: SMOTEEN seems to preform best"
   ]
  },
  {
   "cell_type": "code",
   "execution_count": null,
   "metadata": {},
   "outputs": [
    {
     "name": "stdout",
     "output_type": "stream",
     "text": [
      "y pass   Data/Benchmarks/phos_CDK1.csv\n",
      "Loading Data\n",
      "Loaded Data\n",
      "Working on Data\n",
      "Sample Vector [9, 19, 8, 9, 2, 10, 10, 1, 5, 17, 20, 11, 7, -1.7000000000000002, 53.67692307692308, 0.07692307692307693]\n",
      "Finished working with Data\n",
      "Training Data Points: 200363\n",
      "Test Data Points: 50091\n",
      "Starting Training\n",
      "Done training\n",
      "Test Results\n",
      "Sensitivity: 0.15085502668554623\n",
      "Specificity : 0.9437301393302371\n",
      "Accuracy: 0.7984068994430137\n",
      "ROC 0.547292583008\n",
      "TP 1385 FP 2302 TN 38608 FN 7796\n",
      "\n",
      "\n",
      "\n",
      "None\n",
      "Cross: Validation: [ 0.79932923  0.79824719  0.79902577  0.79966061  0.79916151]\n",
      "Number of data points in benchmark 1808\n",
      "Benchmark Results \n",
      "Sensitivity: 0.4375\n",
      "Specificity : 0.9231651376146789\n",
      "Accuracy: 0.9059734513274337\n",
      "ROC 0.680332568807\n",
      "TP 28 FP 134 TN 1610 FN 36\n",
      "\n",
      "\n",
      "\n",
      "None\n",
      "x pass   Data/Benchmarks/phos_CDK1.csv\n",
      "Loading Data\n",
      "Loaded Data\n",
      "Working on Data\n",
      "Sample Vector [1, 3, 17, 11, 15, 10, 10, 15, 16, 12, 9, 12, 8, -0.6692307692307692, 63.16923076923078, 0.15384615384615385]\n",
      "Finished working with Data\n",
      "Training Data Points: 200363\n",
      "Test Data Points: 50091\n",
      "Starting Training\n",
      "Done training\n",
      "Test Results\n",
      "Sensitivity: 0.15572882824344814\n",
      "Specificity : 0.9441956090755562\n",
      "Accuracy: 0.798846100097822\n",
      "ROC 0.54996221866\n",
      "TP 1438 FP 2280 TN 38577 FN 7796\n",
      "\n",
      "\n",
      "\n",
      "None\n",
      "Cross: Validation: [ 0.7981514   0.79778803  0.79756843  0.80015971  0.79962068]\n",
      "Number of data points in benchmark 1808\n",
      "Benchmark Results \n",
      "Sensitivity: 0.40625\n",
      "Specificity : 0.9225917431192661\n",
      "Accuracy: 0.9043141592920354\n",
      "ROC 0.66442087156\n",
      "TP 26 FP 135 TN 1609 FN 38\n",
      "\n",
      "\n",
      "\n",
      "None\n",
      "y ADASYN   Data/Benchmarks/phos_CDK1.csv\n",
      "Loading Data\n",
      "Loaded Data\n",
      "Working on Data\n",
      "Sample Vector [3, 11, 11, 10, 10, 10, 11, 1, 11, 11, 10, 8, 0, -0.9416666666666668, 174.18333333333334, 0.0]\n",
      "Balancing Data\n"
     ]
    }
   ],
   "source": [
    "par = [\"pass\", \"ADASYN\", \"SMOTEENN\", \"random_under_sample\", \"ncl\", \"near_miss\"]\n",
    "benchmarks = [\"Data/Benchmarks/phos_CDK1.csv\", \"Data/Benchmarks/phos_CK2.csv\", \"Data/Benchmarks/phos_MAPK1.csv\", \"Data/Benchmarks/phos_PKA.csv\", \"Data/Benchmarks/phos_PKC.csv\"]\n",
    "for j in benchmarks:\n",
    "    for i in par:\n",
    "        print(\"y\", i, \" \", j)\n",
    "        y = Predictor()\n",
    "        y.load_data(file=\"Data/Training/clean_s_filtered.csv\")\n",
    "        y.process_data(vector_function=\"sequence\", amino_acid=\"S\", imbalance_function=i, random_data=0)\n",
    "        y.supervised_training(\"bagging\")\n",
    "        y.benchmark(j, \"S\")\n",
    "        del y\n",
    "        print(\"x\", i, \" \", j)\n",
    "        x = Predictor()\n",
    "        x.load_data(file=\"Data/Training/clean_s_filtered.csv\")\n",
    "        x.process_data(vector_function=\"sequence\", amino_acid=\"S\", imbalance_function=i, random_data=1)\n",
    "        x.supervised_training(\"bagging\")\n",
    "        x.benchmark(j, \"S\")\n",
    "        del x"
   ]
  },
  {
   "cell_type": "markdown",
   "metadata": {},
   "source": [
    "Y Phosphorylation "
   ]
  },
  {
   "cell_type": "code",
   "execution_count": null,
   "metadata": {},
   "outputs": [],
   "source": [
    "par = [\"pass\", \"ADASYN\", \"SMOTEENN\", \"random_under_sample\", \"ncl\", \"near_miss\"]\n",
    "benchmarks = [\"Data/Benchmarks/phos_CDK1.csv\", \"Data/Benchmarks/phos_CK2.csv\", \"Data/Benchmarks/phos_MAPK1.csv\", \"Data/Benchmarks/phos_PKA.csv\", \"Data/Benchmarks/phos_PKC.csv\"]\n",
    "for j in benchmarks:\n",
    "    for i in par:\n",
    "        try:\n",
    "            print(\"y\", i, \" \", j)\n",
    "            y = Predictor()\n",
    "            y.load_data(file=\"Data/Training/clean_Y_filtered.csv\")\n",
    "            y.process_data(vector_function=\"sequence\", amino_acid=\"Y\", imbalance_function=i, random_data=0)\n",
    "            y.supervised_training(\"bagging\")\n",
    "            y.benchmark(j, \"Y\")\n",
    "            del y\n",
    "            print(\"x\", i, \" \", j)\n",
    "            x = Predictor()\n",
    "            x.load_data(file=\"Data/Training/clean_Y_filtered.csv\")\n",
    "            x.process_data(vector_function=\"sequence\", amino_acid=\"Y\", imbalance_function=i, random_data=1)\n",
    "            x.supervised_training(\"bagging\")\n",
    "            x.benchmark(j, \"Y\")\n",
    "            del x\n",
    "        except:\n",
    "            print(\"Benchmark not relevant\")"
   ]
  },
  {
   "cell_type": "markdown",
   "metadata": {},
   "source": [
    "T Phosphorylation "
   ]
  },
  {
   "cell_type": "code",
   "execution_count": null,
   "metadata": {},
   "outputs": [],
   "source": [
    "par = [\"pass\", \"ADASYN\", \"SMOTEENN\", \"random_under_sample\", \"ncl\", \"near_miss\"]\n",
    "benchmarks = [\"Data/Benchmarks/phos_CDK1.csv\", \"Data/Benchmarks/phos_CK2.csv\", \"Data/Benchmarks/phos_MAPK1.csv\", \"Data/Benchmarks/phos_PKA.csv\", \"Data/Benchmarks/phos_PKC.csv\"]\n",
    "for j in benchmarks:\n",
    "    for i in par:\n",
    "        print(\"y\", i, \" \", j)\n",
    "        y = Predictor()\n",
    "        y.load_data(file=\"Data/Training/clean_t_filtered.csv\")\n",
    "        y.process_data(vector_function=\"sequence\", amino_acid=\"T\", imbalance_function=i, random_data=0)\n",
    "        y.supervised_training(\"bagging\")\n",
    "        y.benchmark(j, \"T\")\n",
    "        del y\n",
    "        print(\"x\", i, \" \", j)\n",
    "        x = Predictor()\n",
    "        x.load_data(file=\"Data/Training/clean_t_filtered.csv\")\n",
    "        x.process_data(vector_function=\"sequence\", amino_acid=\"T\", imbalance_function=i, random_data=1)\n",
    "        x.supervised_training(\"bagging\")\n",
    "        x.benchmark(j, \"T\")\n",
    "        del x"
   ]
  },
  {
   "cell_type": "code",
   "execution_count": null,
   "metadata": {
    "collapsed": true
   },
   "outputs": [],
   "source": []
  }
 ],
 "metadata": {
  "kernelspec": {
   "display_name": "Python 3",
   "language": "python",
   "name": "python3"
  },
  "language_info": {
   "codemirror_mode": {
    "name": "ipython",
    "version": 3
   },
   "file_extension": ".py",
   "mimetype": "text/x-python",
   "name": "python",
   "nbconvert_exporter": "python",
   "pygments_lexer": "ipython3",
   "version": "3.6.2"
  }
 },
 "nbformat": 4,
 "nbformat_minor": 2
}
