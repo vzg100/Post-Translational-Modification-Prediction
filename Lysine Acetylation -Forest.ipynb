{
 "cells": [
  {
   "cell_type": "markdown",
   "metadata": {},
   "source": [
    "Template for test"
   ]
  },
  {
   "cell_type": "code",
   "execution_count": null,
   "metadata": {
    "collapsed": true
   },
   "outputs": [],
   "source": [
    "from pred import Predictor\n",
    "from pred import sequence_vector\n",
    "from pred import chemical_vector"
   ]
  },
  {
   "cell_type": "markdown",
   "metadata": {},
   "source": [
    "Controlling for Random Negatve vs Sans Random in Imbalanced Techniques using K acytelation.\n",
    "\n",
    "Training data is from CUCKOO group and benchmarks are from dbptm. "
   ]
  },
  {
   "cell_type": "code",
   "execution_count": null,
   "metadata": {},
   "outputs": [
    {
     "name": "stdout",
     "output_type": "stream",
     "text": [
      "y pass\n",
      "Loading Data\n",
      "Loaded Data\n",
      "Working on Data\n",
      "Finished working with Data\n",
      "Training Data Points: 296118\n",
      "Test Data Points: 32902\n",
      "Starting Training\n",
      "Done training\n",
      "Test Results\n",
      "Sensitivity: 0.006968641114982578\n",
      "Specificity : 0.9997503199026248\n",
      "Accuracy: 0.973770591453407\n",
      "ROC 0.503359480509\n",
      "TP 6 FP 8 TN 32033 FN 855\n",
      "\n",
      "\n",
      "\n",
      "None\n",
      "Number of data points in benchmark 39422\n",
      "Benchmark Results \n",
      "Sensitivity: 0.0821406347230865\n",
      "Specificity : 0.998066725585506\n",
      "Accuracy: 0.9233930292729948\n",
      "ROC 0.540103680154\n",
      "TP 264 FP 70 TN 36138 FN 2950\n",
      "\n",
      "\n",
      "\n",
      "None\n",
      "x pass\n",
      "Loading Data\n"
     ]
    }
   ],
   "source": [
    "par = [\"pass\", \"ADASYN\", \"SMOTEENN\", \"random_under_sample\", \"ncl\", \"near_miss\"]\n",
    "for i in par:\n",
    "    print(\"y\", i)\n",
    "    y = Predictor()\n",
    "    y.load_data(file=\"Data/Training/k_acetylation.csv\")\n",
    "    y.process_data(vector_function=\"sequence\", amino_acid=\"K\", imbalance_function=i, random_data=0)\n",
    "    y.supervised_training(\"forest\")\n",
    "    y.benchmark(\"Data/Benchmarks/acet.csv\", \"K\")\n",
    "    del y\n",
    "    print(\"x\", i)\n",
    "    x = Predictor()\n",
    "    x.load_data(file=\"Data/Training/k_acetylation.csv\")\n",
    "    x.process_data(vector_function=\"sequence\", amino_acid=\"K\", imbalance_function=i, random_data=1)\n",
    "    x.supervised_training(\"forest\")\n",
    "    x.benchmark(\"Data/Benchmarks/acet.csv\", \"K\")\n",
    "    del x\n"
   ]
  },
  {
   "cell_type": "markdown",
   "metadata": {},
   "source": [
    "Chemical Vector "
   ]
  },
  {
   "cell_type": "code",
   "execution_count": null,
   "metadata": {},
   "outputs": [],
   "source": [
    "par = [\"pass\", \"ADASYN\", \"SMOTEENN\", \"random_under_sample\", \"ncl\", \"near_miss\"]\n",
    "for i in par:\n",
    "    print(\"y\", i)\n",
    "    y = Predictor()\n",
    "    y.load_data(file=\"Data/Training/k_acetylation.csv\")\n",
    "    y.process_data(vector_function=\"chemical\", amino_acid=\"K\", imbalance_function=i, random_data=0)\n",
    "    y.supervised_training(\"forest\")\n",
    "    y.benchmark(\"Data/Benchmarks/acet.csv\", \"K\")\n",
    "    del y\n",
    "    print(\"x\", i)\n",
    "    x = Predictor()\n",
    "    x.load_data(file=\"Data/Training/k_acetylation.csv\")\n",
    "    x.process_data(vector_function=\"chemical\", amino_acid=\"K\", imbalance_function=i, random_data=1)\n",
    "    x.supervised_training(\"forest\")\n",
    "    x.benchmark(\"Data/Benchmarks/acet.csv\", \"K\")\n",
    "    del x\n"
   ]
  }
 ],
 "metadata": {
  "kernelspec": {
   "display_name": "Python 3",
   "language": "python",
   "name": "python3"
  },
  "language_info": {
   "codemirror_mode": {
    "name": "ipython",
    "version": 3
   },
   "file_extension": ".py",
   "mimetype": "text/x-python",
   "name": "python",
   "nbconvert_exporter": "python",
   "pygments_lexer": "ipython3",
   "version": "3.6.2"
  }
 },
 "nbformat": 4,
 "nbformat_minor": 2
}
