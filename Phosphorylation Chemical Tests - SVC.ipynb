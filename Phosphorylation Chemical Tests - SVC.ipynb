{
 "cells": [
  {
   "cell_type": "markdown",
   "metadata": {},
   "source": [
    "Template for test"
   ]
  },
  {
   "cell_type": "code",
   "execution_count": 3,
   "metadata": {
    "collapsed": true
   },
   "outputs": [],
   "source": [
    "from pred import Predictor\n",
    "from pred import sequence_vector\n",
    "from pred import chemical_vector"
   ]
  },
  {
   "cell_type": "markdown",
   "metadata": {},
   "source": [
    "Controlling for Random Negatve vs Sans Random in Imbalanced Techniques using S, T, and Y Phosphorylation.\n",
    "\n",
    "Included is N Phosphorylation however no benchmarks are available, yet. \n",
    "\n",
    "\n",
    "Training data is from phospho.elm and benchmarks are from dbptm. "
   ]
  },
  {
   "cell_type": "code",
   "execution_count": null,
   "metadata": {},
   "outputs": [
    {
     "name": "stdout",
     "output_type": "stream",
     "text": [
      "y pass\n",
      "Loading Data\n",
      "Loaded Data\n",
      "Working on Data\n",
      "Finished working with Data\n",
      "Training Data Points: 162268\n",
      "Test Data Points: 18030\n",
      "Starting Training\n",
      "Done training\n",
      "Test Results\n",
      "Failed\n",
      "TP 0 FP 0 TN 17717 FN 313\n",
      "\n",
      "\n",
      "\n",
      "None\n",
      "Number of data points in benchmark 65895\n",
      "Benchmark Results \n",
      "Failed\n",
      "TP 0 FP 0 TN 62517 FN 3378\n",
      "\n",
      "\n",
      "\n",
      "None\n",
      "x pass\n",
      "Loading Data\n",
      "Loaded Data\n",
      "Working on Data\n",
      "Finished working with Data\n",
      "Random Sequences Generated 180298\n",
      "Filtering Random Data\n",
      "Random Data Added: 180298\n",
      "Finished with Random Data\n",
      "Training Data Points: 342566\n",
      "Test Data Points: 18030\n",
      "Starting Training\n",
      "Done training\n",
      "Test Results\n",
      "Failed\n",
      "TP 0 FP 0 TN 17699 FN 331\n",
      "\n",
      "\n",
      "\n",
      "None\n",
      "Number of data points in benchmark 65895\n",
      "Benchmark Results \n",
      "Failed\n",
      "TP 0 FP 0 TN 62517 FN 3378\n",
      "\n",
      "\n",
      "\n",
      "None\n",
      "y ADASYN\n",
      "Loading Data\n",
      "Loaded Data\n",
      "Working on Data\n",
      "Balancing Data\n",
      "Balanced Data\n",
      "Finished working with Data\n",
      "Training Data Points: 319478\n",
      "Test Data Points: 35498\n",
      "Starting Training\n",
      "Done training\n",
      "Test Results\n",
      "Sensitivity: 0.7410441857837043\n",
      "Specificity : 0.5217977528089888\n",
      "Accuracy: 0.6311059778015663\n",
      "ROC 0.631420969296\n",
      "TP 13115 FP 8512 TN 9288 FN 4583\n",
      "\n",
      "\n",
      "\n",
      "None\n",
      "Number of data points in benchmark 65895\n",
      "Benchmark Results \n",
      "Sensitivity: 0.835109532267614\n",
      "Specificity : 0.5656381464241726\n",
      "Accuracy: 0.5794521587373852\n",
      "ROC 0.700373839346\n",
      "TP 2821 FP 27155 TN 35362 FN 557\n",
      "\n",
      "\n",
      "\n",
      "None\n",
      "x ADASYN\n",
      "Loading Data\n",
      "Loaded Data\n",
      "Working on Data\n",
      "Balancing Data\n",
      "Balanced Data\n",
      "Finished working with Data\n",
      "Random Sequences Generated 180298\n",
      "Filtering Random Data\n",
      "Random Data Added: 180298\n",
      "Finished with Random Data\n",
      "Training Data Points: 499776\n",
      "Test Data Points: 35498\n",
      "Starting Training\n",
      "Done training\n",
      "Test Results\n",
      "Sensitivity: 0.24384222633675587\n",
      "Specificity : 0.8801697312588401\n",
      "Accuracy: 0.5606794748999944\n",
      "ROC 0.562005978798\n",
      "TP 4346 FP 2118 TN 15557 FN 13477\n",
      "\n",
      "\n",
      "\n",
      "None\n",
      "Number of data points in benchmark 65895\n",
      "Benchmark Results \n",
      "Sensitivity: 0.20485494375370042\n",
      "Specificity : 0.9009709359054338\n",
      "Accuracy: 0.8652856817664466\n",
      "ROC 0.55291293983\n",
      "TP 692 FP 6191 TN 56326 FN 2686\n",
      "\n",
      "\n",
      "\n",
      "None\n",
      "y SMOTEENN\n",
      "Loading Data\n",
      "Loaded Data\n",
      "Working on Data\n",
      "Balancing Data\n",
      "Balanced Data\n",
      "Finished working with Data\n",
      "Training Data Points: 290071\n",
      "Test Data Points: 32231\n",
      "Starting Training\n"
     ]
    }
   ],
   "source": [
    "par = [\"pass\", \"ADASYN\", \"SMOTEENN\", \"random_under_sample\", \"ncl\", \"near_miss\"]\n",
    "for i in par:\n",
    "    print(\"y\", i)\n",
    "    y = Predictor()\n",
    "    y.load_data(file=\"Data/Training/clean_s.csv\")\n",
    "    y.process_data(vector_function=\"chemical\", amino_acid=\"S\", imbalance_function=i, random_data=0)\n",
    "    y.supervised_training(\"svc\")\n",
    "    y.benchmark(\"Data/Benchmarks/phos.csv\", \"S\")\n",
    "    del y\n",
    "    print(\"x\", i)\n",
    "    x = Predictor()\n",
    "    x.load_data(file=\"Data/Training/clean_s.csv\")\n",
    "    x.process_data(vector_function=\"chemical\", amino_acid=\"S\", imbalance_function=i, random_data=1)\n",
    "    x.supervised_training(\"svc\")\n",
    "    x.benchmark(\"Data/Benchmarks/phos.csv\", \"S\")\n",
    "    del x\n"
   ]
  },
  {
   "cell_type": "markdown",
   "metadata": {},
   "source": [
    "Y Phosphorylation "
   ]
  },
  {
   "cell_type": "code",
   "execution_count": null,
   "metadata": {},
   "outputs": [],
   "source": [
    "par = [\"pass\", \"ADASYN\", \"SMOTEENN\", \"random_under_sample\", \"ncl\", \"near_miss\"]\n",
    "for i in par:\n",
    "    print(\"y\", i)\n",
    "    y = Predictor()\n",
    "    y.load_data(file=\"Data/Training/clean_Y.csv\")\n",
    "    y.process_data(vector_function=\"chemical\", amino_acid=\"Y\", imbalance_function=i, random_data=0)\n",
    "    y.supervised_training(\"svc\")\n",
    "    y.benchmark(\"Data/Benchmarks/phos.csv\", \"Y\")\n",
    "    del y\n",
    "    print(\"x\", i)\n",
    "    x = Predictor()\n",
    "    x.load_data(file=\"Data/Training/clean_Y.csv\")\n",
    "    x.process_data(vector_function=\"chemical\", amino_acid=\"Y\", imbalance_function=i, random_data=1)\n",
    "    x.supervised_training(\"svc\")\n",
    "    x.benchmark(\"Data/Benchmarks/phos.csv\", \"Y\")\n",
    "    del x\n"
   ]
  },
  {
   "cell_type": "markdown",
   "metadata": {},
   "source": [
    "T Phosphorylation "
   ]
  },
  {
   "cell_type": "code",
   "execution_count": null,
   "metadata": {},
   "outputs": [],
   "source": [
    "par = [\"pass\", \"ADASYN\", \"SMOTEENN\", \"random_under_sample\", \"ncl\", \"near_miss\"]\n",
    "for i in par:\n",
    "    print(\"y\", i)\n",
    "    y = Predictor()\n",
    "    y.load_data(file=\"Data/Training/clean_t.csv\")\n",
    "    y.process_data(vector_function=\"chemical\", amino_acid=\"T\", imbalance_function=i, random_data=0)\n",
    "    y.supervised_training(\"svc\")\n",
    "    y.benchmark(\"Data/Benchmarks/phos.csv\", \"T\")\n",
    "    del y\n",
    "    print(\"x\", i)\n",
    "    x = Predictor()\n",
    "    x.load_data(file=\"Data/Training/clean_t.csv\")\n",
    "    x.process_data(vector_function=\"chemical\", amino_acid=\"T\", imbalance_function=i, random_data=1)\n",
    "    x.supervised_training(\"svc\")\n",
    "    x.benchmark(\"Data/Benchmarks/phos.csv\", \"T\")\n",
    "    del x\n"
   ]
  },
  {
   "cell_type": "code",
   "execution_count": null,
   "metadata": {
    "collapsed": true
   },
   "outputs": [],
   "source": []
  }
 ],
 "metadata": {
  "kernelspec": {
   "display_name": "Python 3",
   "language": "python",
   "name": "python3"
  },
  "language_info": {
   "codemirror_mode": {
    "name": "ipython",
    "version": 3
   },
   "file_extension": ".py",
   "mimetype": "text/x-python",
   "name": "python",
   "nbconvert_exporter": "python",
   "pygments_lexer": "ipython3",
   "version": "3.6.2"
  }
 },
 "nbformat": 4,
 "nbformat_minor": 2
}
