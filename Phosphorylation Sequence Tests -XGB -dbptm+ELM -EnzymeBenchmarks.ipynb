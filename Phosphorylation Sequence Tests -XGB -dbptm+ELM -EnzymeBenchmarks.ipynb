{
 "cells": [
  {
   "cell_type": "markdown",
   "metadata": {},
   "source": [
    "Template for test"
   ]
  },
  {
   "cell_type": "code",
   "execution_count": null,
   "metadata": {},
   "outputs": [
    {
     "name": "stderr",
     "output_type": "stream",
     "text": [
      "/Users/mark/anaconda3/lib/python3.6/site-packages/sklearn/cross_validation.py:44: DeprecationWarning: This module was deprecated in version 0.18 in favor of the model_selection module into which all the refactored classes and functions are moved. Also note that the interface of the new CV iterators are different from that of this module. This module will be removed in 0.20.\n",
      "  \"This module will be removed in 0.20.\", DeprecationWarning)\n"
     ]
    }
   ],
   "source": [
    "from pred import Predictor\n",
    "from pred import sequence_vector\n",
    "from pred import chemical_vector"
   ]
  },
  {
   "cell_type": "markdown",
   "metadata": {},
   "source": [
    "Controlling for Random Negatve vs Sans Random in Imbalanced Techniques using S, T, and Y Phosphorylation.\n",
    "\n",
    "Included is N Phosphorylation however no benchmarks are available, yet. \n",
    "\n",
    "\n",
    "Training data is from phospho.elm and benchmarks are from dbptm. \n",
    "\n",
    "Note: SMOTEEN seems to preform best"
   ]
  },
  {
   "cell_type": "code",
   "execution_count": null,
   "metadata": {},
   "outputs": [
    {
     "name": "stdout",
     "output_type": "stream",
     "text": [
      "y pass   Data/Benchmarks/phos_CDK1.csv\n",
      "Loading Data\n",
      "Loaded Data\n",
      "Working on Data\n",
      "Finished working with Data\n",
      "Training Data Points: 175317\n",
      "Test Data Points: 75137\n",
      "Starting Training\n",
      "Done training\n",
      "Test Results\n",
      "Sensitivity: 0.9272250927880067\n",
      "Specificity : 0.9995439442308945\n",
      "Accuracy: 0.9863183251926481\n",
      "ROC 0.963384518509\n",
      "TP 12741 FP 28 TN 61368 FN 1000\n",
      "\n",
      "\n",
      "\n",
      "None\n",
      "Cross: Validation: [ 0.98652479  0.98632489  0.987363    0.98652426  0.9874426 ]\n",
      "Number of data points in benchmark 1808\n",
      "Benchmark Results \n",
      "Failed\n",
      "TP 0 FP 0 TN 1744 FN 64\n",
      "\n",
      "\n",
      "\n",
      "None\n",
      "x pass   Data/Benchmarks/phos_CDK1.csv\n",
      "Loading Data\n",
      "Loaded Data\n",
      "Working on Data\n",
      "Finished working with Data\n",
      "Training Data Points: 175317\n",
      "Test Data Points: 75137\n",
      "Starting Training\n",
      "Done training\n",
      "Test Results\n",
      "Sensitivity: 0.9295795035101686\n",
      "Specificity : 0.9995107632093934\n",
      "Accuracy: 0.9866510507473016\n",
      "ROC 0.96454513336\n",
      "TP 12844 FP 30 TN 61290 FN 973\n",
      "\n",
      "\n",
      "\n",
      "None\n",
      "Cross: Validation: [ 0.98714366  0.98716336  0.98612525  0.98718307  0.98646436]\n",
      "Number of data points in benchmark 1808\n",
      "Benchmark Results \n",
      "Failed\n",
      "TP 0 FP 0 TN 1744 FN 64\n",
      "\n",
      "\n",
      "\n",
      "None\n",
      "y ADASYN   Data/Benchmarks/phos_CDK1.csv\n",
      "Loading Data\n",
      "Loaded Data\n",
      "Working on Data\n",
      "Balancing Data\n"
     ]
    }
   ],
   "source": [
    "par = [\"pass\", \"ADASYN\", \"SMOTEENN\", \"random_under_sample\", \"ncl\", \"near_miss\"]\n",
    "benchmarks = [\"Data/Benchmarks/phos_CDK1.csv\", \"Data/Benchmarks/phos_CK2.csv\", \"Data/Benchmarks/phos_MAPK1.csv\", \"Data/Benchmarks/phos_PKA.csv\", \"Data/Benchmarks/phos_PKC.csv\"]\n",
    "for j in benchmarks:\n",
    "    for i in par:\n",
    "        print(\"y\", i, \" \", j)\n",
    "        y = Predictor()\n",
    "        y.load_data(file=\"Data/Training/clean_s_filtered.csv\")\n",
    "        y.process_data(vector_function=\"sequence\", amino_acid=\"S\", imbalance_function=i, random_data=0)\n",
    "        y.supervised_training(\"xgb\")\n",
    "        y.benchmark(j, \"S\")\n",
    "        del y\n",
    "        print(\"x\", i, \" \", j)\n",
    "        x = Predictor()\n",
    "        x.load_data(file=\"Data/Training/clean_s_filtered.csv\")\n",
    "        x.process_data(vector_function=\"sequence\", amino_acid=\"S\", imbalance_function=i, random_data=1)\n",
    "        x.supervised_training(\"xgb\")\n",
    "        x.benchmark(j, \"S\")\n",
    "        del x\n"
   ]
  },
  {
   "cell_type": "markdown",
   "metadata": {},
   "source": [
    "Y Phosphorylation "
   ]
  },
  {
   "cell_type": "code",
   "execution_count": null,
   "metadata": {},
   "outputs": [],
   "source": [
    "par = [\"pass\", \"ADASYN\", \"SMOTEENN\", \"random_under_sample\", \"ncl\", \"near_miss\"]\n",
    "benchmarks = [\"Data/Benchmarks/phos_CDK1.csv\", \"Data/Benchmarks/phos_CK2.csv\", \"Data/Benchmarks/phos_MAPK1.csv\", \"Data/Benchmarks/phos_PKA.csv\", \"Data/Benchmarks/phos_PKC.csv\"]\n",
    "for j in benchmarks:\n",
    "    for i in par:\n",
    "        print(\"y\", i, \" \", j)\n",
    "        y = Predictor()\n",
    "        y.load_data(file=\"Data/Training/clean_Y_filtered.csv\")\n",
    "        y.process_data(vector_function=\"sequence\", amino_acid=\"Y\", imbalance_function=i, random_data=0)\n",
    "        y.supervised_training(\"xgb\")\n",
    "        y.benchmark(j, \"Y\")\n",
    "        del y\n",
    "        print(\"x\", i, \" \", j)\n",
    "        x = Predictor()\n",
    "        x.load_data(file=\"Data/Training/clean_Y_filtered.csv\")\n",
    "        x.process_data(vector_function=\"sequence\", amino_acid=\"Y\", imbalance_function=i, random_data=1)\n",
    "        x.supervised_training(\"xgb\")\n",
    "        x.benchmark(j, \"Y\")\n",
    "        del x"
   ]
  },
  {
   "cell_type": "markdown",
   "metadata": {},
   "source": [
    "T Phosphorylation "
   ]
  },
  {
   "cell_type": "code",
   "execution_count": null,
   "metadata": {},
   "outputs": [],
   "source": [
    "par = [\"pass\", \"ADASYN\", \"SMOTEENN\", \"random_under_sample\", \"ncl\", \"near_miss\"]\n",
    "benchmarks = [\"Data/Benchmarks/phos_CDK1.csv\", \"Data/Benchmarks/phos_CK2.csv\", \"Data/Benchmarks/phos_MAPK1.csv\", \"Data/Benchmarks/phos_PKA.csv\", \"Data/Benchmarks/phos_PKC.csv\"]\n",
    "for j in benchmarks:\n",
    "    for i in par:\n",
    "        print(\"y\", i, \" \", j)\n",
    "        y = Predictor()\n",
    "        y.load_data(file=\"Data/Training/clean_t_filtered.csv\")\n",
    "        y.process_data(vector_function=\"sequence\", amino_acid=\"T\", imbalance_function=i, random_data=0)\n",
    "        y.supervised_training(\"xgb\")\n",
    "        y.benchmark(j, TS\")\n",
    "        del y\n",
    "        print(\"x\", i, \" \", j)\n",
    "        x = Predictor()\n",
    "        x.load_data(file=\"Data/Training/clean_t_filtered.csv\")\n",
    "        x.process_data(vector_function=\"sequence\", amino_acid=\"T\", imbalance_function=i, random_data=1)\n",
    "        x.supervised_training(\"xgb\")\n",
    "        x.benchmark(j, \"T\")\n",
    "        del x"
   ]
  },
  {
   "cell_type": "code",
   "execution_count": null,
   "metadata": {
    "collapsed": true
   },
   "outputs": [],
   "source": []
  }
 ],
 "metadata": {
  "kernelspec": {
   "display_name": "Python 3",
   "language": "python",
   "name": "python3"
  },
  "language_info": {
   "codemirror_mode": {
    "name": "ipython",
    "version": 3
   },
   "file_extension": ".py",
   "mimetype": "text/x-python",
   "name": "python",
   "nbconvert_exporter": "python",
   "pygments_lexer": "ipython3",
   "version": "3.6.2"
  }
 },
 "nbformat": 4,
 "nbformat_minor": 2
}
