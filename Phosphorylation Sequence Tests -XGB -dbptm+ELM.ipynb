{
 "cells": [
  {
   "cell_type": "markdown",
   "metadata": {},
   "source": [
    "Template for test"
   ]
  },
  {
   "cell_type": "code",
   "execution_count": null,
   "metadata": {},
   "outputs": [
    {
     "name": "stderr",
     "output_type": "stream",
     "text": [
      "/Users/mark/anaconda3/lib/python3.6/site-packages/sklearn/cross_validation.py:44: DeprecationWarning: This module was deprecated in version 0.18 in favor of the model_selection module into which all the refactored classes and functions are moved. Also note that the interface of the new CV iterators are different from that of this module. This module will be removed in 0.20.\n",
      "  \"This module will be removed in 0.20.\", DeprecationWarning)\n"
     ]
    }
   ],
   "source": [
    "from pred import Predictor\n",
    "from pred import sequence_vector\n",
    "from pred import chemical_vector"
   ]
  },
  {
   "cell_type": "markdown",
   "metadata": {},
   "source": [
    "Controlling for Random Negatve vs Sans Random in Imbalanced Techniques using S, T, and Y Phosphorylation.\n",
    "\n",
    "Included is N Phosphorylation however no benchmarks are available, yet. \n",
    "\n",
    "\n",
    "Training data is from phospho.elm and benchmarks are from dbptm. \n",
    "\n",
    "Note: SMOTEEN seems to preform best"
   ]
  },
  {
   "cell_type": "code",
   "execution_count": null,
   "metadata": {},
   "outputs": [
    {
     "name": "stdout",
     "output_type": "stream",
     "text": [
      "y pass\n",
      "Loading Data\n",
      "Loaded Data\n",
      "Working on Data\n",
      "Finished working with Data\n",
      "Training Data Points: 225408\n",
      "Test Data Points: 25046\n",
      "Starting Training\n",
      "Done training\n",
      "Test Results\n",
      "Sensitivity: 0.9358581436077058\n",
      "Specificity : 0.9996581697431389\n",
      "Accuracy: 0.9880220394474167\n",
      "ROC 0.967758156675\n",
      "TP 4275 FP 7 TN 20471 FN 293\n",
      "\n",
      "\n",
      "\n",
      "None\n",
      "Cross: Validation: [ 0.98682424  0.98678405  0.98756264  0.98684368  0.98614494]\n",
      "Number of data points in benchmark 65895\n",
      "Benchmark Results \n",
      "Failed\n",
      "TP 0 FP 0 TN 62517 FN 3378\n",
      "\n",
      "\n",
      "\n",
      "None\n",
      "x pass\n",
      "Loading Data\n",
      "Loaded Data\n",
      "Working on Data\n",
      "Finished working with Data\n",
      "Random Sequences Generated 250454\n",
      "Filtering Random Data\n",
      "Random Data Added: 250454\n",
      "Finished with Random Data\n",
      "Training Data Points: 475862\n",
      "Test Data Points: 25046\n",
      "Starting Training\n",
      "Done training\n",
      "Test Results\n",
      "Sensitivity: 0.9328020676286883\n",
      "Specificity : 0.9984316031956085\n",
      "Accuracy: 0.9862652718997046\n",
      "ROC 0.965616835412\n",
      "TP 4331 FP 32 TN 20371 FN 312\n",
      "\n",
      "\n",
      "\n",
      "None\n",
      "Cross: Validation: [ 0.98686417  0.98694376  0.98676409  0.98664404  0.98690357]\n",
      "Number of data points in benchmark 65895\n",
      "Benchmark Results \n",
      "Failed\n",
      "TP 0 FP 0 TN 62517 FN 3378\n",
      "\n",
      "\n",
      "\n",
      "None\n",
      "y ADASYN\n",
      "Loading Data\n",
      "Loaded Data\n",
      "Working on Data\n",
      "Balancing Data\n",
      "Balanced Data\n",
      "Finished working with Data\n",
      "Training Data Points: 365767\n",
      "Test Data Points: 40641\n",
      "Starting Training\n",
      "Done training\n",
      "Test Results\n",
      "Sensitivity: 0.9486491855383393\n",
      "Specificity : 0.9941965374298951\n",
      "Accuracy: 0.9716296350975616\n",
      "ROC 0.971422861484\n",
      "TP 19102 FP 119 TN 20386 FN 1034\n",
      "\n",
      "\n",
      "\n",
      "None\n",
      "Cross: Validation: [ 0.96327645  0.97047317  0.97429904  0.97380692  0.97161698]\n",
      "Number of data points in benchmark 65895\n",
      "Benchmark Results \n",
      "Failed\n",
      "TP 0 FP 0 TN 62517 FN 3378\n",
      "\n",
      "\n",
      "\n",
      "None\n",
      "x ADASYN\n",
      "Loading Data\n",
      "Loaded Data\n",
      "Working on Data\n",
      "Balancing Data\n"
     ]
    }
   ],
   "source": [
    "par = [\"pass\", \"ADASYN\", \"SMOTEENN\", \"random_under_sample\", \"ncl\", \"near_miss\"]\n",
    "for i in par:\n",
    "    print(\"y\", i)\n",
    "    y = Predictor()\n",
    "    y.load_data(file=\"Data/Training/clean_s_filtered.csv\")\n",
    "    y.process_data(vector_function=\"sequence\", amino_acid=\"S\", imbalance_function=i, random_data=0)\n",
    "    y.supervised_training(\"xgb\")\n",
    "    y.benchmark(\"Data/Benchmarks/phos.csv\", \"S\")\n",
    "    del y\n",
    "    print(\"x\", i)\n",
    "    x = Predictor()\n",
    "    x.load_data(file=\"Data/Training/clean_s_filtered.csv\")\n",
    "    x.process_data(vector_function=\"sequence\", amino_acid=\"S\", imbalance_function=i, random_data=1)\n",
    "    x.supervised_training(\"xgb\")\n",
    "    x.benchmark(\"Data/Benchmarks/phos.csv\", \"S\")\n",
    "    del x\n"
   ]
  },
  {
   "cell_type": "markdown",
   "metadata": {},
   "source": [
    "Y Phosphorylation "
   ]
  },
  {
   "cell_type": "code",
   "execution_count": null,
   "metadata": {},
   "outputs": [],
   "source": [
    "par = [\"pass\", \"ADASYN\", \"SMOTEENN\", \"random_under_sample\", \"ncl\", \"near_miss\"]\n",
    "for i in par:\n",
    "    print(\"y\", i)\n",
    "    y = Predictor()\n",
    "    y.load_data(file=\"Data/Training/clean_Y_filtered.csv\")\n",
    "    y.process_data(vector_function=\"sequence\", amino_acid=\"Y\", imbalance_function=i, random_data=0)\n",
    "    y.supervised_training(\"xgb\")\n",
    "    y.benchmark(\"Data/Benchmarks/phos.csv\", \"Y\")\n",
    "    del y\n",
    "    print(\"x\", i)\n",
    "    x = Predictor()\n",
    "    x.load_data(file=\"Data/Training/clean_Y_filtered.csv\")\n",
    "    x.process_data(vector_function=\"sequence\", amino_acid=\"Y\", imbalance_function=i, random_data=1)\n",
    "    x.supervised_training(\"xgb\")\n",
    "    x.benchmark(\"Data/Benchmarks/phos.csv\", \"Y\")\n",
    "    del x\n"
   ]
  },
  {
   "cell_type": "markdown",
   "metadata": {},
   "source": [
    "T Phosphorylation "
   ]
  },
  {
   "cell_type": "code",
   "execution_count": null,
   "metadata": {},
   "outputs": [],
   "source": [
    "par = [\"pass\", \"ADASYN\", \"SMOTEENN\", \"random_under_sample\", \"ncl\", \"near_miss\"]\n",
    "for i in par:\n",
    "    print(\"y\", i)\n",
    "    y = Predictor()\n",
    "    y.load_data(file=\"Data/Training/clean_t_filtered.csv\")\n",
    "    y.process_data(vector_function=\"sequence\", amino_acid=\"T\", imbalance_function=i, random_data=0)\n",
    "    y.supervised_training(\"xgb\")\n",
    "    y.benchmark(\"Data/Benchmarks/phos.csv\", \"T\")\n",
    "    del y\n",
    "    print(\"x\", i)\n",
    "    x = Predictor()\n",
    "    x.load_data(file=\"Data/Training/clean_t_filtered.csv\")\n",
    "    x.process_data(vector_function=\"sequence\", amino_acid=\"T\", imbalance_function=i, random_data=1)\n",
    "    x.supervised_training(\"xgb\")\n",
    "    x.benchmark(\"Data/Benchmarks/phos.csv\", \"T\")\n",
    "    del x\n"
   ]
  },
  {
   "cell_type": "code",
   "execution_count": null,
   "metadata": {
    "collapsed": true
   },
   "outputs": [],
   "source": []
  }
 ],
 "metadata": {
  "kernelspec": {
   "display_name": "Python 3",
   "language": "python",
   "name": "python3"
  },
  "language_info": {
   "codemirror_mode": {
    "name": "ipython",
    "version": 3
   },
   "file_extension": ".py",
   "mimetype": "text/x-python",
   "name": "python",
   "nbconvert_exporter": "python",
   "pygments_lexer": "ipython3",
   "version": "3.6.2"
  }
 },
 "nbformat": 4,
 "nbformat_minor": 2
}
