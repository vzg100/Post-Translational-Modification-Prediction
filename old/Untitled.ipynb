{
 "cells": [
  {
   "cell_type": "code",
   "execution_count": 5,
   "metadata": {},
   "outputs": [],
   "source": [
    "f = open(\"Data/Benchmarks/phos.csv\")\n",
    "prot = {}\n",
    "for line in f:\n",
    "    line = line.split(\",\")\n",
    "    if line[0] not in prot.keys():\n",
    "        prot[line[0]] = [line[1], line[2]]\n",
    "f.close()\n",
    "q = open(\"Data/Benchmarks/phos2.csv\", \"w+\")\n",
    "for i in prot.keys():\n",
    "    q.write(i+\",\"+prot[i][0]+\",\"+prot[i][1])\n",
    "q.close()"
   ]
  },
  {
   "cell_type": "code",
   "execution_count": null,
   "metadata": {
    "collapsed": true
   },
   "outputs": [],
   "source": []
  }
 ],
 "metadata": {
  "kernelspec": {
   "display_name": "Python 3",
   "language": "python",
   "name": "python3"
  },
  "language_info": {
   "codemirror_mode": {
    "name": "ipython",
    "version": 3
   },
   "file_extension": ".py",
   "mimetype": "text/x-python",
   "name": "python",
   "nbconvert_exporter": "python",
   "pygments_lexer": "ipython3",
   "version": "3.6.2"
  }
 },
 "nbformat": 4,
 "nbformat_minor": 2
}
