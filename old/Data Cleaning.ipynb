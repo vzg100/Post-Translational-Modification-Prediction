{
 "cells": [
  {
   "cell_type": "code",
   "execution_count": 2,
   "metadata": {
    "collapsed": true
   },
   "outputs": [],
   "source": [
    "from pred import DataCleaner\n",
    "x =DataCleaner(file = \"Data/Raw/Phosphorylation_H.txt\", delimit=\"\t\")\n",
    "x.load_data(amino_acid = \"H\", aa = \"code\", seq=\"sequence\", pos=\"position\")\n",
    "x.generate_positive(window=0)\n",
    "x.generate_negatives(\"H\")\n",
    "x.write_data(\"Data/Training/y2.csv\")"
   ]
  },
  {
   "cell_type": "code",
   "execution_count": 2,
   "metadata": {},
   "outputs": [],
   "source": [
    "from pred import FastaToCSV\n",
    "y = FastaToCSV(negative=\"Data/Raw/CDK1_neg.fasta\", positive=\"Data/Raw/CDK1_pos.fasta\", output=\"Data/Benchmarks/phos_CDK1.csv\")"
   ]
  },
  {
   "cell_type": "code",
   "execution_count": null,
   "metadata": {
    "collapsed": true
   },
   "outputs": [],
   "source": []
  }
 ],
 "metadata": {
  "kernelspec": {
   "display_name": "Python 3",
   "language": "python",
   "name": "python3"
  },
  "language_info": {
   "codemirror_mode": {
    "name": "ipython",
    "version": 3
   },
   "file_extension": ".py",
   "mimetype": "text/x-python",
   "name": "python",
   "nbconvert_exporter": "python",
   "pygments_lexer": "ipython3",
   "version": "3.6.2"
  }
 },
 "nbformat": 4,
 "nbformat_minor": 2
}
