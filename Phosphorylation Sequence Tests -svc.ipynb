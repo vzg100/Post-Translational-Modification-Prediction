{
 "cells": [
  {
   "cell_type": "markdown",
   "metadata": {},
   "source": [
    "Template for test"
   ]
  },
  {
   "cell_type": "code",
   "execution_count": null,
   "metadata": {
    "collapsed": true
   },
   "outputs": [],
   "source": [
    "from pred import Predictor\n",
    "from pred import sequence_vector\n",
    "from pred import chemical_vector"
   ]
  },
  {
   "cell_type": "markdown",
   "metadata": {},
   "source": [
    "Controlling for Random Negatve vs Sans Random in Imbalanced Techniques using S, T, and Y Phosphorylation.\n",
    "\n",
    "Included is N Phosphorylation however no benchmarks are available, yet. \n",
    "\n",
    "\n",
    "Training data is from phospho.elm and benchmarks are from dbptm. "
   ]
  },
  {
   "cell_type": "code",
   "execution_count": null,
   "metadata": {},
   "outputs": [
    {
     "name": "stdout",
     "output_type": "stream",
     "text": [
      "y pass\n",
      "Loading Data\n",
      "Loaded Data\n",
      "Working on Data\n",
      "Finished working with Data\n",
      "Training Data Points: 162268\n",
      "Test Data Points: 18030\n",
      "Starting Training\n",
      "Done training\n",
      "Test Results\n",
      "Failed\n",
      "TP 0 FP 0 TN 17720 FN 310\n",
      "\n",
      "\n",
      "\n",
      "None\n",
      "Number of data points in benchmark 65895\n",
      "Benchmark Results \n",
      "Failed\n",
      "TP 0 FP 0 TN 62517 FN 3378\n",
      "\n",
      "\n",
      "\n",
      "None\n",
      "x pass\n",
      "Loading Data\n",
      "Loaded Data\n",
      "Working on Data\n",
      "Finished working with Data\n",
      "Random Sequences Generated 180298\n",
      "Filtering Random Data\n",
      "Random Data Added: 180298\n",
      "Finished with Random Data\n",
      "Training Data Points: 342566\n",
      "Test Data Points: 18030\n",
      "Starting Training\n",
      "Done training\n",
      "Test Results\n",
      "Failed\n",
      "TP 0 FP 0 TN 17688 FN 342\n",
      "\n",
      "\n",
      "\n",
      "None\n",
      "Number of data points in benchmark 65895\n",
      "Benchmark Results \n",
      "Failed\n",
      "TP 0 FP 0 TN 62517 FN 3378\n",
      "\n",
      "\n",
      "\n",
      "None\n",
      "y ADASYN\n",
      "Loading Data\n",
      "Loaded Data\n",
      "Working on Data\n",
      "Balancing Data\n",
      "Balanced Data\n",
      "Finished working with Data\n",
      "Training Data Points: 318312\n",
      "Test Data Points: 35368\n",
      "Starting Training\n",
      "Done training\n",
      "Test Results\n",
      "Sensitivity: 0.9876956225901565\n",
      "Specificity : 0.9999436047823145\n",
      "Accuracy: 0.9938362361456684\n",
      "ROC 0.993819613686\n",
      "TP 17419 FP 1 TN 17731 FN 217\n",
      "\n",
      "\n",
      "\n",
      "None\n",
      "Number of data points in benchmark 65895\n",
      "Benchmark Results \n",
      "Sensitivity: 0.0011841326228537595\n",
      "Specificity : 0.9999360174032663\n",
      "Accuracy: 0.9487366264511723\n",
      "ROC 0.500560075013\n",
      "TP 4 FP 4 TN 62513 FN 3374\n",
      "\n",
      "\n",
      "\n",
      "None\n",
      "x ADASYN\n",
      "Loading Data\n",
      "Loaded Data\n",
      "Working on Data\n",
      "Balancing Data\n",
      "Balanced Data\n",
      "Finished working with Data\n",
      "Random Sequences Generated 180298\n",
      "Filtering Random Data\n",
      "Random Data Added: 180298\n",
      "Finished with Random Data\n",
      "Training Data Points: 498610\n",
      "Test Data Points: 35368\n",
      "Starting Training\n"
     ]
    }
   ],
   "source": [
    "par = [\"pass\", \"ADASYN\", \"SMOTEENN\", \"random_under_sample\", \"ncl\", \"near_miss\"]\n",
    "for i in par:\n",
    "    print(\"y\", i)\n",
    "    y = Predictor()\n",
    "    y.load_data(file=\"Data/Training/clean_s.csv\")\n",
    "    y.process_data(vector_function=\"sequence\", amino_acid=\"S\", imbalance_function=i, random_data=0)\n",
    "    y.supervised_training(\"svc\")\n",
    "    y.benchmark(\"Data/Benchmarks/phos.csv\", \"S\")\n",
    "    del y\n",
    "    print(\"x\", i)\n",
    "    x = Predictor()\n",
    "    x.load_data(file=\"Data/Training/clean_s.csv\")\n",
    "    x.process_data(vector_function=\"sequence\", amino_acid=\"S\", imbalance_function=i, random_data=1)\n",
    "    x.supervised_training(\"svc\")\n",
    "    x.benchmark(\"Data/Benchmarks/phos.csv\", \"S\")\n",
    "    del x\n"
   ]
  },
  {
   "cell_type": "markdown",
   "metadata": {},
   "source": [
    "Y Phosphorylation "
   ]
  },
  {
   "cell_type": "code",
   "execution_count": null,
   "metadata": {
    "collapsed": true
   },
   "outputs": [],
   "source": [
    "par = [\"pass\", \"ADASYN\", \"SMOTEENN\", \"random_under_sample\", \"ncl\", \"near_miss\"]\n",
    "for i in par:\n",
    "    print(\"y\", i)\n",
    "    y = Predictor()\n",
    "    y.load_data(file=\"Data/Training/clean_Y.csv\")\n",
    "    y.process_data(vector_function=\"sequence\", amino_acid=\"Y\", imbalance_function=i, random_data=0)\n",
    "    y.supervised_training(\"svc\")\n",
    "    y.benchmark(\"Data/Benchmarks/phos.csv\", \"Y\")\n",
    "    del y\n",
    "    print(\"x\", i)\n",
    "    x = Predictor()\n",
    "    x.load_data(file=\"Data/Training/clean_Y.csv\")\n",
    "    x.process_data(vector_function=\"sequence\", amino_acid=\"Y\", imbalance_function=i, random_data=1)\n",
    "    x.supervised_training(\"svc\")\n",
    "    x.benchmark(\"Data/Benchmarks/phos.csv\", \"Y\")\n",
    "    del x\n"
   ]
  },
  {
   "cell_type": "markdown",
   "metadata": {},
   "source": [
    "T Phosphorylation "
   ]
  },
  {
   "cell_type": "code",
   "execution_count": null,
   "metadata": {
    "collapsed": true
   },
   "outputs": [],
   "source": [
    "par = [\"pass\", \"ADASYN\", \"SMOTEENN\", \"random_under_sample\", \"ncl\", \"near_miss\"]\n",
    "for i in par:\n",
    "    print(\"y\", i)\n",
    "    y = Predictor()\n",
    "    y.load_data(file=\"Data/Training/clean_t.csv\")\n",
    "    y.process_data(vector_function=\"sequence\", amino_acid=\"T\", imbalance_function=i, random_data=0)\n",
    "    y.supervised_training(\"svc\")\n",
    "    y.benchmark(\"Data/Benchmarks/phos.csv\", \"T\")\n",
    "    del y\n",
    "    print(\"x\", i)\n",
    "    x = Predictor()\n",
    "    x.load_data(file=\"Data/Training/clean_t.csv\")\n",
    "    x.process_data(vector_function=\"sequence\", amino_acid=\"T\", imbalance_function=i, random_data=1)\n",
    "    x.supervised_training(\"svc\")\n",
    "    x.benchmark(\"Data/Benchmarks/phos.csv\", \"T\")\n",
    "    del x\n"
   ]
  },
  {
   "cell_type": "code",
   "execution_count": null,
   "metadata": {
    "collapsed": true
   },
   "outputs": [],
   "source": []
  }
 ],
 "metadata": {
  "kernelspec": {
   "display_name": "Python 3",
   "language": "python",
   "name": "python3"
  },
  "language_info": {
   "codemirror_mode": {
    "name": "ipython",
    "version": 3
   },
   "file_extension": ".py",
   "mimetype": "text/x-python",
   "name": "python",
   "nbconvert_exporter": "python",
   "pygments_lexer": "ipython3",
   "version": "3.6.2"
  }
 },
 "nbformat": 4,
 "nbformat_minor": 2
}
