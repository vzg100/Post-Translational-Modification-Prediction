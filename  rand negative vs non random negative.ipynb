{
 "cells": [
  {
   "cell_type": "markdown",
   "metadata": {},
   "source": [
    "Template for test"
   ]
  },
  {
   "cell_type": "code",
   "execution_count": 1,
   "metadata": {
    "collapsed": true
   },
   "outputs": [],
   "source": [
    "from pred import Predictor\n",
    "from pred import sequence_vector\n",
    "from pred import chemical_vector"
   ]
  },
  {
   "cell_type": "markdown",
   "metadata": {},
   "source": [
    "Sans Random negatives"
   ]
  },
  {
   "cell_type": "code",
   "execution_count": null,
   "metadata": {},
   "outputs": [
    {
     "name": "stdout",
     "output_type": "stream",
     "text": [
      "Applying Vector Function\n",
      "Finished Applying Vector Function\n",
      "Starting Training\n",
      "186216 186216\n",
      "Done training\n",
      "Test Results\n",
      "             precision    recall  f1-score   support\n",
      "\n",
      "    Non PTM       0.98      1.00      0.99     54892\n",
      "        PTM       0.00      0.00      0.00       973\n",
      "\n",
      "avg / total       0.97      0.98      0.97     55865\n",
      "\n",
      "Accuracy 0.982565112324\n",
      "             precision    recall  f1-score   support\n",
      "\n",
      "    Non PTM       0.95      1.00      0.97     62517\n",
      "        PTM       0.00      0.00      0.00      3378\n",
      "\n",
      "avg / total       0.90      0.95      0.92     65895\n",
      "\n",
      "Accuracy: 0.948736626451\n"
     ]
    },
    {
     "name": "stderr",
     "output_type": "stream",
     "text": [
      "/Users/mark/anaconda3/lib/python3.6/site-packages/sklearn/metrics/classification.py:1113: UndefinedMetricWarning: Precision and F-score are ill-defined and being set to 0.0 in labels with no predicted samples.\n",
      "  'precision', 'predicted', average, warn_for)\n"
     ]
    }
   ],
   "source": [
    "y = Predictor()\n",
    "y.load_data(file=\"Data/Training/clean_s.csv\")\n",
    "#y.generate_random_data(1, amino_acid=\"Y\")\n",
    "y.vectorize(\"sequence\")\n",
    "#y.balance_data(\"near_miss\")\n",
    "y.supervised_training(\"mlp_adam\")\n",
    "y.benchmark(\"Data/Benchmarks/phos.csv\", \"S\")"
   ]
  },
  {
   "cell_type": "markdown",
   "metadata": {},
   "source": [
    "With random negatives"
   ]
  },
  {
   "cell_type": "code",
   "execution_count": null,
   "metadata": {},
   "outputs": [
    {
     "name": "stdout",
     "output_type": "stream",
     "text": [
      "Loading Data\n",
      "Loaded Data\n",
      "Applying Vector Function\n",
      "Finished Applying Vector Function\n",
      "Starting Training\n",
      "186216 186216\n"
     ]
    }
   ],
   "source": [
    "x = Predictor()\n",
    "x.load_data(file=\"Data/Training/clean_s.csv\")\n",
    "x.generate_random_data(1, amino_acid=\"S\")\n",
    "x.vectorize(\"sequence\")\n",
    "#y.balance_data(\"near_miss\")\n",
    "x.supervised_training(\"mlp_adam\")\n",
    "x.benchmark(\"Data/Benchmarks/phos.csv\", \"S\")"
   ]
  },
  {
   "cell_type": "code",
   "execution_count": null,
   "metadata": {
    "collapsed": true
   },
   "outputs": [],
   "source": [
    "\n",
    "\n"
   ]
  }
 ],
 "metadata": {
  "kernelspec": {
   "display_name": "Python 3",
   "language": "python",
   "name": "python3"
  },
  "language_info": {
   "codemirror_mode": {
    "name": "ipython",
    "version": 3
   },
   "file_extension": ".py",
   "mimetype": "text/x-python",
   "name": "python",
   "nbconvert_exporter": "python",
   "pygments_lexer": "ipython3",
   "version": "3.6.2"
  }
 },
 "nbformat": 4,
 "nbformat_minor": 2
}
