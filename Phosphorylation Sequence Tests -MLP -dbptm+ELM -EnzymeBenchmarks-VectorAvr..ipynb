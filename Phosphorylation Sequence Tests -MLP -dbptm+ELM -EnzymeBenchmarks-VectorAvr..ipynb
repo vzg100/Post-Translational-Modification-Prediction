{
 "cells": [
  {
   "cell_type": "markdown",
   "metadata": {},
   "source": [
    "Template for test"
   ]
  },
  {
   "cell_type": "code",
   "execution_count": null,
   "metadata": {},
   "outputs": [
    {
     "name": "stderr",
     "output_type": "stream",
     "text": [
      "/Users/mark/anaconda3/lib/python3.6/site-packages/sklearn/cross_validation.py:44: DeprecationWarning: This module was deprecated in version 0.18 in favor of the model_selection module into which all the refactored classes and functions are moved. Also note that the interface of the new CV iterators are different from that of this module. This module will be removed in 0.20.\n",
      "  \"This module will be removed in 0.20.\", DeprecationWarning)\n"
     ]
    }
   ],
   "source": [
    "from pred import Predictor\n",
    "from pred import sequence_vector\n",
    "from pred import chemical_vector"
   ]
  },
  {
   "cell_type": "markdown",
   "metadata": {},
   "source": [
    "Controlling for Random Negatve vs Sans Random in Imbalanced Techniques using S, T, and Y Phosphorylation.\n",
    "\n",
    "Included is N Phosphorylation however no benchmarks are available, yet. \n",
    "\n",
    "\n",
    "Training data is from phospho.elm and benchmarks are from dbptm. "
   ]
  },
  {
   "cell_type": "code",
   "execution_count": null,
   "metadata": {},
   "outputs": [
    {
     "name": "stdout",
     "output_type": "stream",
     "text": [
      "y pass   Data/Benchmarks/phos_CDK1.csv\n",
      "Loading Data\n",
      "Loaded Data\n",
      "Working on Data\n",
      "Sample Vector [3, 4, 17, 17, 12, 12, 10, 5, 8, 18, 11, 17, 12, -0.13846153846153844, 39.47692307692308, 0.07692307692307693]\n",
      "Finished working with Data\n",
      "Training Data Points: 200363\n",
      "Test Data Points: 50091\n",
      "Starting Training\n",
      "Done training\n",
      "Test Results\n",
      "Sensitivity: 0.051044841097083155\n",
      "Specificity : 0.9891450504852944\n",
      "Accuracy: 0.8170729272723642\n",
      "ROC 0.520094945791\n",
      "TP 469 FP 444 TN 40459 FN 8719\n",
      "\n",
      "\n",
      "\n",
      "None\n",
      "Cross: Validation: [ 0.8144015   0.81573536  0.81673354  0.81549211  0.81573168]\n",
      "Number of data points in benchmark 1808\n",
      "Benchmark Results \n",
      "Sensitivity: 0.140625\n",
      "Specificity : 0.9908256880733946\n",
      "Accuracy: 0.9607300884955752\n",
      "ROC 0.565725344037\n",
      "TP 9 FP 16 TN 1728 FN 55\n",
      "\n",
      "\n",
      "\n",
      "None\n",
      "x pass   Data/Benchmarks/phos_CDK1.csv\n",
      "Loading Data\n",
      "Loaded Data\n",
      "Working on Data\n",
      "Sample Vector [20, 20, 3, 3, 9, 17, 10, 7, 13, 4, 19, 9, 12, -0.22307692307692303, 36.5, 0.0]\n",
      "Finished working with Data\n",
      "Training Data Points: 200363\n",
      "Test Data Points: 50091\n",
      "Starting Training\n",
      "Done training\n",
      "Test Results\n",
      "Sensitivity: 0.00423498751221631\n",
      "Specificity : 0.9989726530013209\n",
      "Accuracy: 0.8160947076321096\n",
      "ROC 0.501603820257\n",
      "TP 39 FP 42 TN 40840 FN 9170\n",
      "\n",
      "\n",
      "\n",
      "None\n",
      "Cross: Validation: [ 0.81585882  0.81653391  0.8157154   0.81581154  0.81569175]\n",
      "Number of data points in benchmark 1808\n",
      "Benchmark Results \n",
      "Failed\n",
      "TP 0 FP 2 TN 1742 FN 64\n",
      "\n",
      "\n",
      "\n",
      "None\n",
      "y ADASYN   Data/Benchmarks/phos_CDK1.csv\n",
      "Loading Data\n",
      "Loaded Data\n",
      "Working on Data\n",
      "Sample Vector [10, 14, 1, 5, 7, 16, 10, 2, 12, 12, 20, 10, 19, 0.10769230769230766, 16.215384615384615, 0.07692307692307693]\n",
      "Balancing Data\n"
     ]
    }
   ],
   "source": [
    "par = [\"pass\", \"ADASYN\", \"SMOTEENN\", \"random_under_sample\", \"ncl\", \"near_miss\"]\n",
    "benchmarks = [\"Data/Benchmarks/phos_CDK1.csv\", \"Data/Benchmarks/phos_CK2.csv\", \"Data/Benchmarks/phos_MAPK1.csv\", \"Data/Benchmarks/phos_PKA.csv\", \"Data/Benchmarks/phos_PKC.csv\"]\n",
    "for j in benchmarks:\n",
    "    for i in par:\n",
    "        print(\"y\", i, \" \", j)\n",
    "        y = Predictor()\n",
    "        y.load_data(file=\"Data/Training/clean_s_filtered.csv\")\n",
    "        y.process_data(vector_function=\"sequence\", amino_acid=\"S\", imbalance_function=i, random_data=0)\n",
    "        y.supervised_training(\"mlp_adam\")\n",
    "        y.benchmark(j, \"S\")\n",
    "        del y\n",
    "        print(\"x\", i, \" \", j)\n",
    "        x = Predictor()\n",
    "        x.load_data(file=\"Data/Training/clean_s_filtered.csv\")\n",
    "        x.process_data(vector_function=\"sequence\", amino_acid=\"S\", imbalance_function=i, random_data=1)\n",
    "        x.supervised_training(\"mlp_adam\")\n",
    "        x.benchmark(j, \"S\")\n",
    "        del x"
   ]
  },
  {
   "cell_type": "markdown",
   "metadata": {},
   "source": [
    "Y Phosphorylation "
   ]
  },
  {
   "cell_type": "code",
   "execution_count": null,
   "metadata": {
    "scrolled": false
   },
   "outputs": [],
   "source": [
    "par = [\"pass\", \"ADASYN\", \"SMOTEENN\", \"random_under_sample\", \"ncl\", \"near_miss\"]\n",
    "benchmarks = [\"Data/Benchmarks/phos_CDK1.csv\", \"Data/Benchmarks/phos_CK2.csv\", \"Data/Benchmarks/phos_MAPK1.csv\", \"Data/Benchmarks/phos_PKA.csv\", \"Data/Benchmarks/phos_PKC.csv\"]\n",
    "for j in benchmarks:\n",
    "    for i in par:\n",
    "        try:\n",
    "            print(\"y\", i, \" \", j)\n",
    "            y = Predictor()\n",
    "            y.load_data(file=\"Data/Training/clean_Y_filtered.csv\")\n",
    "            y.process_data(vector_function=\"sequence\", amino_acid=\"Y\", imbalance_function=i, random_data=0)\n",
    "            y.supervised_training(\"bagging\")\n",
    "            y.benchmark(j, \"Y\")\n",
    "            del y\n",
    "            print(\"x\", i, \" \", j)\n",
    "            x = Predictor()\n",
    "            x.load_data(file=\"Data/Training/clean_Y_filtered.csv\")\n",
    "            x.process_data(vector_function=\"sequence\", amino_acid=\"Y\", imbalance_function=i, random_data=1)\n",
    "            x.supervised_training(\"bagging\")\n",
    "            x.benchmark(j, \"Y\")\n",
    "            del x\n",
    "        except:\n",
    "            print(\"Benchmark not relevant\")"
   ]
  },
  {
   "cell_type": "markdown",
   "metadata": {},
   "source": [
    "T Phosphorylation "
   ]
  },
  {
   "cell_type": "code",
   "execution_count": null,
   "metadata": {
    "scrolled": false
   },
   "outputs": [],
   "source": [
    "par = [\"pass\", \"ADASYN\", \"SMOTEENN\", \"random_under_sample\", \"ncl\", \"near_miss\"]\n",
    "benchmarks = [\"Data/Benchmarks/phos_CDK1.csv\", \"Data/Benchmarks/phos_CK2.csv\", \"Data/Benchmarks/phos_MAPK1.csv\", \"Data/Benchmarks/phos_PKA.csv\", \"Data/Benchmarks/phos_PKC.csv\"]\n",
    "for j in benchmarks:\n",
    "    for i in par:\n",
    "        print(\"y\", i, \" \", j)\n",
    "        y = Predictor()\n",
    "        y.load_data(file=\"Data/Training/clean_t_filtered.csv\")\n",
    "        y.process_data(vector_function=\"sequence\", amino_acid=\"T\", imbalance_function=i, random_data=0)\n",
    "        y.supervised_training(\"mlp_adam\")\n",
    "        y.benchmark(j, \"T\")\n",
    "        del y\n",
    "        print(\"x\", i, \" \", j)\n",
    "        x = Predictor()\n",
    "        x.load_data(file=\"Data/Training/clean_t_filtered.csv\")\n",
    "        x.process_data(vector_function=\"sequence\", amino_acid=\"T\", imbalance_function=i, random_data=1)\n",
    "        x.supervised_training(\"mlp_adam\")\n",
    "        x.benchmark(j, \"T\")\n",
    "        del x"
   ]
  },
  {
   "cell_type": "code",
   "execution_count": null,
   "metadata": {
    "collapsed": true
   },
   "outputs": [],
   "source": []
  }
 ],
 "metadata": {
  "kernelspec": {
   "display_name": "Python 3",
   "language": "python",
   "name": "python3"
  },
  "language_info": {
   "codemirror_mode": {
    "name": "ipython",
    "version": 3
   },
   "file_extension": ".py",
   "mimetype": "text/x-python",
   "name": "python",
   "nbconvert_exporter": "python",
   "pygments_lexer": "ipython3",
   "version": "3.6.2"
  }
 },
 "nbformat": 4,
 "nbformat_minor": 2
}
