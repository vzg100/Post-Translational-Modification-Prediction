{
 "cells": [
  {
   "cell_type": "code",
   "execution_count": 16,
   "metadata": {},
   "outputs": [
    {
     "name": "stdout",
     "output_type": "stream",
     "text": [
      "36\n",
      "36\n"
     ]
    }
   ],
   "source": [
    "trash = [\"\\\"\", \"B\", \"X\", \"Z\", \"U\", \"X\", \"\\n\", \"\\t\"]\n",
    "def clean(seq: str, t: list = trash):\n",
    "    for i in t:\n",
    "        seq = seq.replace(i, \"\")\n",
    "    return seq\n",
    "\n",
    "f = open(\"Data/Benchmarks/phos.csv\")\n",
    "y={}\n",
    "t={}\n",
    "s={}\n",
    "for line in f:\n",
    "    line = line.split(\",\")\n",
    "    line = [clean(i) for i in line]\n",
    "    if \"sequence\" not in line[0]:\n",
    "        if line[2] == \"Y\":\n",
    "            if line[0] not in y.keys():\n",
    "                y[line[0]] = [line[1]]\n",
    "            else:\n",
    "                y[line[0]] = y[line[0]]+[line[1]]\n",
    "        \n",
    "        if line[2] == \"S\":\n",
    "            if line[0] not in s.keys():\n",
    "                s[line[0]] = [line[1]]\n",
    "            else:\n",
    "                s[line[0]] = s[line[0]]+[line[1]]\n",
    "                \n",
    "        if line[2] == \"T\":\n",
    "            if line[0] not in t.keys():\n",
    "                t[line[0]] = [line[1]]\n",
    "            else:\n",
    "                t[line[0]] = t[line[0]]+[line[1]]\n",
    "contr = []   \n",
    "l = [s,y,t]\n",
    "for i in l:\n",
    "    for j in i.keys():\n",
    "        _ = i[j]\n",
    "        if _.count(_[0]) == len(_):\n",
    "            pass\n",
    "        else:\n",
    "            contr.append(j)\n",
    "print(contr)\n",
    "        "
   ]
  },
  {
   "cell_type": "markdown",
   "metadata": {},
   "source": [
    "Only 36 benchmark members seem to contradict "
   ]
  }
 ],
 "metadata": {
  "kernelspec": {
   "display_name": "Python 3",
   "language": "python",
   "name": "python3"
  },
  "language_info": {
   "codemirror_mode": {
    "name": "ipython",
    "version": 3
   },
   "file_extension": ".py",
   "mimetype": "text/x-python",
   "name": "python",
   "nbconvert_exporter": "python",
   "pygments_lexer": "ipython3",
   "version": "3.6.2"
  }
 },
 "nbformat": 4,
 "nbformat_minor": 2
}
