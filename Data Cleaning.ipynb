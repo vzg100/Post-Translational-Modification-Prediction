{
 "cells": [
  {
   "cell_type": "code",
   "execution_count": 3,
   "metadata": {},
   "outputs": [],
   "source": [
    "from pred import DataCleaner\n",
    "x =DataCleaner(file = \"Data/Raw/Methylation.csv\", delimit=\"\t\")\n",
    "x.load_data(amino_acid = \"K\", aa = \"Code\", seq=\"Sequence\", pos=\"Position\")\n",
    "x.generate_positive()\n",
    "x.generate_negatives(\"K\")\n",
    "x.write_data(\"Data/Training/k_methylation.csv\")\n"
   ]
  },
  {
   "cell_type": "code",
   "execution_count": 4,
   "metadata": {},
   "outputs": [],
   "source": [
    "from pred import FastaToCSV\n",
    "y = FastaToCSV(negative=\"Data/Benchmarks/Raw/Acetylation_neg.fasta\", positive=\"Data/Benchmarks/Raw/Acetylation_pos.fasta\", output=\"Data/Benchmarks/acet.csv\")"
   ]
  },
  {
   "cell_type": "code",
   "execution_count": null,
   "metadata": {
    "collapsed": true
   },
   "outputs": [],
   "source": []
  }
 ],
 "metadata": {
  "kernelspec": {
   "display_name": "Python 3",
   "language": "python",
   "name": "python3"
  },
  "language_info": {
   "codemirror_mode": {
    "name": "ipython",
    "version": 3
   },
   "file_extension": ".py",
   "mimetype": "text/x-python",
   "name": "python",
   "nbconvert_exporter": "python",
   "pygments_lexer": "ipython3",
   "version": "3.6.2"
  }
 },
 "nbformat": 4,
 "nbformat_minor": 2
}
