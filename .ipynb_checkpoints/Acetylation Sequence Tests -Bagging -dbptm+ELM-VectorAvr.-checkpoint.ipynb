{
 "cells": [
  {
   "cell_type": "markdown",
   "metadata": {},
   "source": [
    "Template for test"
   ]
  },
  {
   "cell_type": "code",
   "execution_count": null,
   "metadata": {},
   "outputs": [],
   "source": [
    "from pred import Predictor\n",
    "from pred import sequence_vector\n",
    "from pred import chemical_vector"
   ]
  },
  {
   "cell_type": "markdown",
   "metadata": {},
   "source": [
    "Controlling for Random Negatve vs Sans Random in Imbalanced Techniques using S, T, and Y Phosphorylation.\n",
    "\n",
    "Included is N Phosphorylation however no benchmarks are available, yet. \n",
    "\n",
    "\n",
    "Training data is from phospho.elm and benchmarks are from dbptm. \n",
    "\n",
    "Note: SMOTEEN seems to preform best"
   ]
  },
  {
   "cell_type": "code",
   "execution_count": null,
   "metadata": {
    "scrolled": true
   },
   "outputs": [],
   "source": [
    "par = [\"pass\", \"ADASYN\", \"SMOTEENN\", \"random_under_sample\", \"ncl\", \"near_miss\"]\n",
    "for i in par:\n",
    "    print(\"y\", i)\n",
    "    y = Predictor()\n",
    "    y.load_data(file=\"Data/Training/k_acetylation.csv\")\n",
    "    y.process_data(vector_function=\"sequence\", amino_acid=\"K\", imbalance_function=i, random_data=0)\n",
    "    y.supervised_training(\"bagging\")\n",
    "    y.benchmark(\"Data/Benchmarks/acet.csv\", \"K\")\n",
    "    del y\n",
    "    print(\"x\", i)\n",
    "    x = Predictor()\n",
    "    x.load_data(file=\"Data/Training/k_acetylation.csv\")\n",
    "    x.process_data(vector_function=\"sequence\", amino_acid=\"K\", imbalance_function=i, random_data=1)\n",
    "    x.supervised_training(\"bagging\")\n",
    "    x.benchmark(\"Data/Benchmarks/acet.csv\", \"K\")\n",
    "    del x\n"
   ]
  },
  {
   "cell_type": "code",
   "execution_count": null,
   "metadata": {
    "collapsed": true
   },
   "outputs": [],
   "source": []
  }
 ],
 "metadata": {
  "kernelspec": {
   "display_name": "Python 3",
   "language": "python",
   "name": "python3"
  },
  "language_info": {
   "codemirror_mode": {
    "name": "ipython",
    "version": 3
   },
   "file_extension": ".py",
   "mimetype": "text/x-python",
   "name": "python",
   "nbconvert_exporter": "python",
   "pygments_lexer": "ipython3",
   "version": "3.6.2"
  }
 },
 "nbformat": 4,
 "nbformat_minor": 2
}
