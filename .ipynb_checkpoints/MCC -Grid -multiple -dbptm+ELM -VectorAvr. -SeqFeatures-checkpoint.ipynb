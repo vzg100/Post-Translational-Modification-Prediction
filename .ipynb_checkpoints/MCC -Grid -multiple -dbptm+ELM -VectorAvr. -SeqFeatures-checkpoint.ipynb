{
 "cells": [
  {
   "cell_type": "code",
   "execution_count": null,
   "metadata": {},
   "outputs": [],
   "source": [
    "from pred import Predictor\n",
    "from pred import sequence_vector\n",
    "from pred import chemical_vector\n",
    "from scipy.stats import randint\n",
    "from scipy.stats import uniform\n",
    "from xgboost import XGBClassifier\n",
    "from sklearn.ensemble import RandomForestClassifier\n",
    "\n",
    "\n",
    "\n",
    "forest = {\"max_depth\": [3, None],\n",
    "              \"min_samples_leaf\": randint(1, 11),\n",
    "              \"bootstrap\": [True, False],\n",
    "              \"criterion\": [\"gini\", \"entropy\"],\n",
    "              \"max_depth\":randint(1,1000),\n",
    "              \"warm_start\":[True ,False]\n",
    "         }\n",
    "mlp = {\n",
    "    \"activation\":[\"identity\", \"logistic\", \"tanh\", \"relu\"], \n",
    "    \"solver\":[\"lbfgs\", \"sgd\", \"adam\"], \n",
    "    \"learning_rate\":[\"constant\", \"invscaling\", \"adaptive\"], \n",
    "    \"hidden_layer_sizes\":randint(1,99), \n",
    "    \"alpha\":uniform(0.000001, .001), \n",
    "    \"power_t\":uniform(0.1, .9), \n",
    "    \"momentum\":uniform(0.0, 1.0)\n",
    "}\n",
    "\n",
    "bagging = {\n",
    "    \"n_estimators\":randint(1,50), \n",
    "    \"base_estimator\":[None, RandomForestClassifier, XGBClassifier], \n",
    "    \"bootstrap\":[True, False], \n",
    "    \"bootstrap_features\":[True, False]\n",
    "}\n",
    "#\"multi:softprob\" try running with this at another time to explore classy confidence \n",
    "xgb = {\n",
    "    \"eta\":uniform(.1, .5), \n",
    "    \"min_child_weight\":randint(1,10), \n",
    "    \"max_depth\":randint(2, 15), \n",
    "    \"scale_pos_weight\":randint(1,10), \n",
    "    \"objective\":[\"reg:linear\", \"multi:softmax\"], \n",
    "    \"eval_metric\":[\"rmse\", \"mae\", \"logloss\", \"error\", \"auc\"]\n",
    "}"
   ]
  },
  {
   "cell_type": "markdown",
   "metadata": {},
   "source": [
    "Serine Phosphorylation Test Gridsearch"
   ]
  },
  {
   "cell_type": "code",
   "execution_count": null,
   "metadata": {
    "scrolled": true
   },
   "outputs": [],
   "source": [
    "classy = [[\"bagging\",bagging], [\"xgb\", xgb], [\"mlp_adam\", mlp], [\"forest\", forest]]\n",
    "par = [\"pass\", \"ADASYN\", \"SMOTEENN\", \"random_under_sample\", \"ncl\", \"near_miss\"]\n",
    "best_score = 0\n",
    "best_params = []\n",
    "for j in classy:\n",
    "    for i in par:\n",
    "        print(\"y\",j, i)\n",
    "        y = Predictor()\n",
    "        y.load_data(file=\"Data/Training/clean_s_filtered.csv\")\n",
    "        y.process_data(vector_function=\"sequence\", amino_acid=\"S\", imbalance_function=i, random_data=0)\n",
    "        y.supervised_training(j[0], parameters=j[1])\n",
    "        y.benchmark(\"Data/Benchmarks/phos.csv\", \"S\")\n",
    "        if y.benchmark_mcc > best_score:\n",
    "            best_score = y.benchmark_mcc\n",
    "            best_params = [\"y\", i, j]\n",
    "        del y\n",
    "        print(\"x\",j , i)\n",
    "        x = Predictor()\n",
    "        x.load_data(file=\"Data/Training/clean_s_filtered.csv\")\n",
    "        x.process_data(vector_function=\"sequence\", amino_acid=\"S\", imbalance_function=i, random_data=1)\n",
    "        x.supervised_training(j[0], parameters=j[1])\n",
    "        x.benchmark(\"Data/Benchmarks/phos.csv\", \"S\")\n",
    "        if x.benchmark_mcc > best_score:\n",
    "            best_score = x.benchmark_mcc\n",
    "            best_params = [\"x\", i, j]\n",
    "        del x\n",
    "print(\"Best Score\")\n",
    "print(best_score)\n",
    "print(best_params)"
   ]
  },
  {
   "cell_type": "markdown",
   "metadata": {},
   "source": [
    "Threonine Phosphorylation  Grid search "
   ]
  },
  {
   "cell_type": "code",
   "execution_count": null,
   "metadata": {
    "collapsed": true
   },
   "outputs": [],
   "source": [
    "classy = [\"xgb\", \"mlp_adam\", \"forest\", \"bagging\"]\n",
    "par = [\"pass\", \"ADASYN\", \"SMOTEENN\", \"random_under_sample\", \"ncl\", \"near_miss\"]\n",
    "best_score = 0\n",
    "best_params = []\n",
    "for j in classy:\n",
    "    for i in par:\n",
    "        print(\"y\",j, i)\n",
    "        y = Predictor()\n",
    "        y.load_data(file=\"Data/Training/clean_t_filtered.csv\")\n",
    "        y.process_data(vector_function=\"sequence\", amino_acid=\"T\", imbalance_function=i, random_data=0)\n",
    "        y.supervised_training(j[0], parameters=j[1])\n",
    "        y.benchmark(\"Data/Benchmarks/phos.csv\", \"T\")\n",
    "        if y.benchmark_mcc > best_score:\n",
    "            best_score = y.benchmark_mcc\n",
    "            best_params = [\"y\", i, j]\n",
    "        del y\n",
    "        print(\"x\",j , i)\n",
    "        x = Predictor()\n",
    "        x.load_data(file=\"Data/Training/clean_t_filtered.csv\")\n",
    "        x.process_data(vector_function=\"sequence\", amino_acid=\"T\", imbalance_function=i, random_data=1)\n",
    "        x.supervised_training(j[0], parameters=j[1])\n",
    "        x.benchmark(\"Data/Benchmarks/phos.csv\", \"T\")\n",
    "        if x.benchmark_mcc > best_score:\n",
    "            best_score = x.benchmark_mcc\n",
    "            best_params = [\"x\", i, j]\n",
    "        del x\n",
    "print(\"Best Score\")\n",
    "print(best_score)\n",
    "print(best_params)"
   ]
  },
  {
   "cell_type": "markdown",
   "metadata": {},
   "source": [
    "Tyrosine Phopshorylation Grid Search "
   ]
  },
  {
   "cell_type": "code",
   "execution_count": null,
   "metadata": {
    "collapsed": true
   },
   "outputs": [],
   "source": [
    "classy = [\"xgb\", \"mlp_adam\", \"forest\", \"bagging\"]\n",
    "par = [\"pass\", \"ADASYN\", \"SMOTEENN\", \"random_under_sample\", \"ncl\", \"near_miss\"]\n",
    "best_score = 0\n",
    "best_params = []\n",
    "for j in classy:\n",
    "    for i in par:\n",
    "        print(\"y\",j, i)\n",
    "        y = Predictor()\n",
    "        y.load_data(file=\"Data/Training/clean_Y_filtered.csv\")\n",
    "        y.process_data(vector_function=\"sequence\", amino_acid=\"Y\", imbalance_function=i, random_data=0)\n",
    "        y.supervised_training(j[0], parameters=j[1])\n",
    "        y.benchmark(\"Data/Benchmarks/phos.csv\", \"Y\")\n",
    "        if y.benchmark_mcc > best_score:\n",
    "            best_score = y.benchmark_mcc\n",
    "            best_params = [\"y\", i, j]\n",
    "        del y\n",
    "        print(\"x\",j , i)\n",
    "        x = Predictor()\n",
    "        x.load_data(file=\"Data/Training/clean_Y_filtered.csv\")\n",
    "        x.process_data(vector_function=\"sequence\", amino_acid=\"Y\", imbalance_function=i, random_data=1)\n",
    "        x.supervised_training(j[0], parameters=j[1])\n",
    "        x.benchmark(\"Data/Benchmarks/phos.csv\", \"Y\")\n",
    "        if x.benchmark_mcc > best_score:\n",
    "            best_score = x.benchmark_mcc\n",
    "            best_params = [\"x\", i, j]\n",
    "        del x\n",
    "print(\"Best Score\")\n",
    "print(best_score)\n",
    "print(best_params)"
   ]
  },
  {
   "cell_type": "markdown",
   "metadata": {},
   "source": [
    "Lysine Acetylation Grid Search"
   ]
  },
  {
   "cell_type": "code",
   "execution_count": null,
   "metadata": {
    "collapsed": true
   },
   "outputs": [],
   "source": [
    "classy = [\"xgb\", \"mlp_adam\", \"forest\", \"bagging\"]\n",
    "par = [\"pass\", \"ADASYN\", \"SMOTEENN\", \"random_under_sample\", \"ncl\", \"near_miss\"]\n",
    "best_score = 0\n",
    "best_params = []\n",
    "for j in classy:\n",
    "    for i in par:\n",
    "        print(\"y\",j, i)\n",
    "        y = Predictor()\n",
    "        y.load_data(file=\"Data/Training/k_acetylation.csv\")\n",
    "        y.process_data(vector_function=\"sequence\", amino_acid=\"K\", imbalance_function=i, random_data=0)\n",
    "        y.supervised_training(j[0], parameters=j[1])\n",
    "        y.benchmark(\"Data/Benchmarks/acet.csv\", \"K\")\n",
    "        if y.benchmark_mcc > best_score:\n",
    "            best_score = y.benchmark_mcc\n",
    "            best_params = [\"y\", i, j]\n",
    "        del y\n",
    "        print(\"x\",j , i)\n",
    "        x = Predictor()\n",
    "        x.load_data(file=\"Data/Training/k_acetylation.csv\")\n",
    "        x.process_data(vector_function=\"sequence\", amino_acid=\"K\", imbalance_function=i, random_data=1)\n",
    "        x.supervised_training(j[0], parameters=j[1])\n",
    "        x.benchmark(\"Data/Benchmarks/acet.csv\", \"K\")\n",
    "        if x.benchmark_mcc > best_score:\n",
    "            best_score = x.benchmark_mcc\n",
    "            best_params = [\"x\", i, j]\n",
    "        del x\n",
    "print(\"Best Score\")\n",
    "print(best_score)\n",
    "print(best_params)"
   ]
  },
  {
   "cell_type": "markdown",
   "metadata": {},
   "source": [
    "Lysine Methylation Grid Search"
   ]
  },
  {
   "cell_type": "code",
   "execution_count": null,
   "metadata": {
    "collapsed": true
   },
   "outputs": [],
   "source": [
    "classy = [\"xgb\", \"mlp_adam\", \"forest\", \"bagging\"]\n",
    "par = [\"pass\", \"ADASYN\", \"SMOTEENN\", \"random_under_sample\", \"ncl\", \"near_miss\"]\n",
    "best_score = 0\n",
    "best_params = []\n",
    "for j in classy:\n",
    "    for i in par:\n",
    "        print(\"y\",j, i)\n",
    "        y = Predictor()\n",
    "        y.load_data(file=\"Data/Training/k_methylation.csv\")\n",
    "        y.process_data(vector_function=\"sequence\", amino_acid=\"K\", imbalance_function=i, random_data=0)\n",
    "        y.supervised_training(j[0], parameters=j[1])\n",
    "        y.benchmark(\"Data/Benchmarks/methylation.csv\", \"K\")\n",
    "        if y.benchmark_mcc > best_score:\n",
    "            best_score = y.benchmark_mcc\n",
    "            best_params = [\"y\", i, j]\n",
    "        del y\n",
    "        print(\"x\",j , i)\n",
    "        x = Predictor()\n",
    "        x.load_data(file=\"Data/Training/k_methylation.csv\")\n",
    "        x.process_data(vector_function=\"sequence\", amino_acid=\"K\", imbalance_function=i, random_data=1)\n",
    "        x.supervised_training(j[0], parameters=j[1])\n",
    "        x.benchmark(\"Data/Benchmarks/methylation.csv\", \"K\")\n",
    "        if x.benchmark_mcc > best_score:\n",
    "            best_score = x.benchmark_mcc\n",
    "            best_params = [\"x\", i, j]\n",
    "        del x\n",
    "print(\"Best Score\")\n",
    "print(best_score)\n",
    "print(best_params)"
   ]
  },
  {
   "cell_type": "code",
   "execution_count": null,
   "metadata": {
    "collapsed": true
   },
   "outputs": [],
   "source": []
  }
 ],
 "metadata": {
  "kernelspec": {
   "display_name": "Python 3",
   "language": "python",
   "name": "python3"
  },
  "language_info": {
   "codemirror_mode": {
    "name": "ipython",
    "version": 3
   },
   "file_extension": ".py",
   "mimetype": "text/x-python",
   "name": "python",
   "nbconvert_exporter": "python",
   "pygments_lexer": "ipython3",
   "version": "3.6.2"
  }
 },
 "nbformat": 4,
 "nbformat_minor": 2
}
