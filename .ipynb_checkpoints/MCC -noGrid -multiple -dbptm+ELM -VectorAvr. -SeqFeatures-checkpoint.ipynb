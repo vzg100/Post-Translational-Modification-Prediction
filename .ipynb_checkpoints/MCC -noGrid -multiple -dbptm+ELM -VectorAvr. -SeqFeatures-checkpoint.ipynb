{
 "cells": [
  {
   "cell_type": "code",
   "execution_count": 1,
   "metadata": {},
   "outputs": [
    {
     "name": "stderr",
     "output_type": "stream",
     "text": [
      "/Users/mark/anaconda3/lib/python3.6/site-packages/sklearn/cross_validation.py:44: DeprecationWarning: This module was deprecated in version 0.18 in favor of the model_selection module into which all the refactored classes and functions are moved. Also note that the interface of the new CV iterators are different from that of this module. This module will be removed in 0.20.\n",
      "  \"This module will be removed in 0.20.\", DeprecationWarning)\n"
     ]
    }
   ],
   "source": [
    "from pred import Predictor\n",
    "from pred import sequence_vector\n",
    "from pred import chemical_vector\n"
   ]
  },
  {
   "cell_type": "markdown",
   "metadata": {},
   "source": [
    "Serine Phosphorylation Test No Gridsearch"
   ]
  },
  {
   "cell_type": "code",
   "execution_count": null,
   "metadata": {
    "scrolled": true
   },
   "outputs": [
    {
     "name": "stdout",
     "output_type": "stream",
     "text": [
      "y pass\n",
      "Loading Data\n",
      "Loaded Data\n",
      "Working on Data\n",
      "Sample Vector [17, 11, 10, 20, 17, 13, 10, 1, 9, 7, 10, 5, 17, -1.4384615384615385, 33.06153846153847, 0.07692307692307693]\n",
      "Finished working with Data\n",
      "Training Data Points: 200363\n",
      "Test Data Points: 50091\n",
      "Starting Training\n",
      "Done training\n",
      "Test Results\n",
      "Sensitivity: 0.07792487353352708\n",
      "Specificity : 0.9878186274509804\n",
      "Accuracy: 0.8190493302190014\n",
      "ROC 0.532871750492\n",
      "Matthews Correlation Coeff:  0.165704818581\n",
      "TP 724 FP 497 TN 40303 FN 8567\n",
      "\n",
      "\n",
      "\n",
      "None\n",
      "Cross Validation: 0.167802599256\n",
      "Number of data points in benchmark 65895\n",
      "Benchmark Results \n",
      "Sensitivity: 0.005032563647128479\n",
      "Specificity : 0.9843082681510629\n",
      "Accuracy: 0.9341072919037863\n",
      "ROC 0.494670415899\n",
      "Matthews Correlation Coeff:  -0.0192475129967\n",
      "TP 17 FP 981 TN 61536 FN 3361\n",
      "\n",
      "\n",
      "\n",
      "None\n",
      "x pass\n",
      "Loading Data\n",
      "Loaded Data\n",
      "Working on Data\n",
      "Sample Vector [12, 2, 9, 12, 7, 8, 10, 4, 10, 10, 8, 10, 3, -0.13076923076923078, 156.23076923076923, 0.0]\n",
      "Finished working with Data\n",
      "Training Data Points: 200363\n",
      "Test Data Points: 50091\n",
      "Starting Training\n",
      "Done training\n",
      "Test Results\n",
      "Sensitivity: 0.0813592024868689\n",
      "Specificity : 0.9858201265884893\n",
      "Accuracy: 0.817372382264279\n",
      "ROC 0.533589664538\n",
      "Matthews Correlation Coeff:  0.162259495353\n",
      "TP 759 FP 578 TN 40184 FN "
     ]
    }
   ],
   "source": [
    "classy = [\"xgb\", \"mlp_adam\", \"forest\", \"svc\", \"bagging\"]\n",
    "par = [\"pass\", \"ADASYN\", \"SMOTEENN\", \"random_under_sample\", \"ncl\", \"near_miss\"]\n",
    "best_score = 0\n",
    "best_params = []\n",
    "for j in classy:\n",
    "    for i in par:\n",
    "        print(\"y\",j, i)\n",
    "        y = Predictor()\n",
    "        y.load_data(file=\"Data/Training/clean_s_filtered.csv\")\n",
    "        y.process_data(vector_function=\"sequence\", amino_acid=\"S\", imbalance_function=i, random_data=0)\n",
    "        y.supervised_training(j)\n",
    "        y.benchmark(\"Data/Benchmarks/phos.csv\", \"S\")\n",
    "        if y.benchmark_mcc > best_score:\n",
    "            best_score = y.benchmark_mcc\n",
    "            best_params = [\"y\", i, j]\n",
    "        del y\n",
    "        print(\"x\",j , i)\n",
    "        x = Predictor()\n",
    "        x.load_data(file=\"Data/Training/clean_s_filtered.csv\")\n",
    "        x.process_data(vector_function=\"sequence\", amino_acid=\"S\", imbalance_function=i, random_data=1)\n",
    "        x.supervised_training(j)\n",
    "        x.benchmark(\"Data/Benchmarks/phos.csv\", \"S\")\n",
    "        if y.benchmark_mcc > best_score:\n",
    "            best_score = y.benchmark_mcc\n",
    "            best_params = [\"x\", i, j]\n",
    "        del x\n",
    "print(\"Best Score\")\n",
    "print(best_score)\n",
    "print(best_params)"
   ]
  },
  {
   "cell_type": "code",
   "execution_count": null,
   "metadata": {
    "collapsed": true
   },
   "outputs": [],
   "source": []
  }
 ],
 "metadata": {
  "kernelspec": {
   "display_name": "Python 3",
   "language": "python",
   "name": "python3"
  },
  "language_info": {
   "codemirror_mode": {
    "name": "ipython",
    "version": 3
   },
   "file_extension": ".py",
   "mimetype": "text/x-python",
   "name": "python",
   "nbconvert_exporter": "python",
   "pygments_lexer": "ipython3",
   "version": "3.6.2"
  }
 },
 "nbformat": 4,
 "nbformat_minor": 2
}
