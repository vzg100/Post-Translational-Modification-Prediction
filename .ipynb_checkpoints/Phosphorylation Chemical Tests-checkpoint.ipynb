{
 "cells": [
  {
   "cell_type": "markdown",
   "metadata": {},
   "source": [
    "Template for test"
   ]
  },
  {
   "cell_type": "code",
   "execution_count": null,
   "metadata": {
    "collapsed": true
   },
   "outputs": [],
   "source": [
    "from pred import Predictor\n",
    "from pred import sequence_vector\n",
    "from pred import chemical_vector"
   ]
  },
  {
   "cell_type": "markdown",
   "metadata": {},
   "source": [
    "Controlling for Random Negatve vs Sans Random in Imbalanced Techniques using S, T, and Y Phosphorylation.\n",
    "\n",
    "Included is N Phosphorylation however no benchmarks are available, yet. \n",
    "\n",
    "\n",
    "Training data is from phospho.elm and benchmarks are from dbptm. "
   ]
  },
  {
   "cell_type": "code",
   "execution_count": null,
   "metadata": {},
   "outputs": [
    {
     "name": "stdout",
     "output_type": "stream",
     "text": [
      "y pass\n",
      "Loading Data\n",
      "Loaded Data\n",
      "Working on Data\n",
      "Finished working with Data\n",
      "Training Data Points: 162268\n",
      "Test Data Points: 18030\n",
      "Starting Training\n",
      "Done training\n",
      "Test Results\n",
      "Failed\n",
      "TP 0 FP 13 TN 17703 FN 314\n",
      "\n",
      "\n",
      "\n",
      "None\n",
      "Benchmark Results \n",
      "Sensitivity: 0.0002960331557134399\n",
      "Specificity : 0.9999520130524497\n",
      "Accuracy: 0.948706275134684\n",
      "ROC 0.500124023104\n",
      "TP 1 FP 3 TN 62514 FN 3377\n",
      "\n",
      "\n",
      "\n",
      "None\n",
      "x pass\n",
      "Loading Data\n",
      "Loaded Data\n",
      "Working on Data\n",
      "Finished working with Data\n",
      "Random Sequences Generated 180298\n",
      "Filtering Random Data\n",
      "Random Data Added: 0\n",
      "Finished with Random Data\n",
      "Training Data Points: 342566\n",
      "Test Data Points: 18030\n",
      "Starting Training\n",
      "Done training\n",
      "Test Results\n",
      "Failed\n",
      "TP 0 FP 4 TN 17736 FN 290\n",
      "\n",
      "\n",
      "\n",
      "None\n",
      "Benchmark Results \n",
      "Failed\n",
      "TP 0 FP 2 TN 62515 FN 3378\n",
      "\n",
      "\n",
      "\n",
      "None\n",
      "y ADASYN\n",
      "Loading Data\n",
      "Loaded Data\n",
      "Working on Data\n",
      "Balancing Data\n",
      "Balanced Data\n",
      "Finished working with Data\n",
      "Training Data Points: 318312\n",
      "Test Data Points: 35368\n",
      "Starting Training\n",
      "Done training\n",
      "Test Results\n",
      "Sensitivity: 0.8208819861693686\n",
      "Specificity : 0.9232201286246192\n",
      "Accuracy: 0.8721725853879213\n",
      "ROC 0.872051057397\n",
      "TP 14482 FP 1361 TN 16365 FN 3160\n",
      "\n",
      "\n",
      "\n",
      "None\n",
      "Benchmark Results \n",
      "Sensitivity: 0.07904085257548846\n",
      "Specificity : 0.9412319849001072\n",
      "Accuracy: 0.8970331588132635\n",
      "ROC 0.510136418738\n",
      "TP 267 FP 3674 TN 58843 FN 3111\n",
      "\n",
      "\n",
      "\n",
      "None\n",
      "x ADASYN\n",
      "Loading Data\n",
      "Loaded Data\n",
      "Working on Data\n",
      "Balancing Data\n",
      "Balanced Data\n",
      "Finished working with Data\n",
      "Random Sequences Generated 180298\n",
      "Filtering Random Data\n",
      "Random Data Added: 0\n",
      "Finished with Random Data\n",
      "Training Data Points: 498610\n",
      "Test Data Points: 35368\n",
      "Starting Training\n",
      "Done training\n",
      "Test Results\n",
      "Sensitivity: 0.7287367891293407\n",
      "Specificity : 0.9776379754074921\n",
      "Accuracy: 0.8517869260348337\n",
      "ROC 0.853187382268\n",
      "TP 13032 FP 391 TN 17094 FN 4851\n",
      "\n",
      "\n",
      "\n",
      "None\n",
      "Benchmark Results \n",
      "Sensitivity: 0.006216696269982238\n",
      "Specificity : 0.9900826975062783\n",
      "Accuracy: 0.9396464071629107\n",
      "ROC 0.498149696888\n",
      "TP 21 FP 620 TN 61897 FN 3357\n",
      "\n",
      "\n",
      "\n",
      "None\n",
      "y SMOTEENN\n",
      "Loading Data\n",
      "Loaded Data\n",
      "Working on Data\n",
      "Balancing Data\n"
     ]
    }
   ],
   "source": [
    "par = [\"pass\", \"ADASYN\", \"SMOTEENN\", \"random_under_sample\", \"ncl\", \"near_miss\"]\n",
    "for i in par:\n",
    "    print(\"y\", i)\n",
    "    y = Predictor()\n",
    "    y.load_data(file=\"Data/Training/clean_s.csv\")\n",
    "    y.process_data(vector_function=\"chemical\", amino_acid=\"S\", imbalance_function=i, random_data=0)\n",
    "    y.supervised_training(\"mlp_adam\")\n",
    "    y.benchmark(\"Data/Benchmarks/phos.csv\", \"S\")\n",
    "    del y\n",
    "    print(\"x\", i)\n",
    "    x = Predictor()\n",
    "    x.load_data(file=\"Data/Training/clean_s.csv\")\n",
    "    x.process_data(vector_function=\"chemical\", amino_acid=\"S\", imbalance_function=i, random_data=1)\n",
    "    x.supervised_training(\"mlp_adam\")\n",
    "    x.benchmark(\"Data/Benchmarks/phos.csv\", \"S\")\n",
    "    del x\n"
   ]
  },
  {
   "cell_type": "markdown",
   "metadata": {},
   "source": [
    "T Phosphorylation "
   ]
  },
  {
   "cell_type": "code",
   "execution_count": null,
   "metadata": {
    "collapsed": true
   },
   "outputs": [],
   "source": [
    "par = [\"pass\", \"ADASYN\", \"SMOTEENN\", \"random_under_sample\", \"ncl\", \"near_miss\"]\n",
    "for i in par:\n",
    "    print(\"y\", i)\n",
    "    y = Predictor()\n",
    "    y.load_data(file=\"Data/Training/clean_Y.csv\")\n",
    "    y.process_data(vector_function=\"chemical\", amino_acid=\"Y\", imbalance_function=i, random_data=0)\n",
    "    y.supervised_training(\"mlp_adam\")\n",
    "    y.benchmark(\"Data/Benchmarks/phos.csv\", \"Y\")\n",
    "    del y\n",
    "    print(\"x\", i)\n",
    "    x = Predictor()\n",
    "    x.load_data(file=\"Data/Training/clean_Y.csv\")\n",
    "    x.process_data(vector_function=\"chemical\", amino_acid=\"Y\", imbalance_function=i, random_data=1)\n",
    "    x.supervised_training(\"mlp_adam\")\n",
    "    x.benchmark(\"Data/Benchmarks/phos.csv\", \"Y\")\n",
    "    del x\n"
   ]
  },
  {
   "cell_type": "markdown",
   "metadata": {},
   "source": [
    "Y Phosphorylation "
   ]
  },
  {
   "cell_type": "code",
   "execution_count": null,
   "metadata": {
    "collapsed": true
   },
   "outputs": [],
   "source": [
    "par = [\"pass\", \"ADASYN\", \"SMOTEENN\", \"random_under_sample\", \"ncl\", \"near_miss\"]\n",
    "for i in par:\n",
    "    print(\"y\", i)\n",
    "    y = Predictor()\n",
    "    y.load_data(file=\"Data/Training/clean_t.csv\")\n",
    "    y.process_data(vector_function=\"chemical\", amino_acid=\"T\", imbalance_function=i, random_data=0)\n",
    "    y.supervised_training(\"mlp_adam\")\n",
    "    y.benchmark(\"Data/Benchmarks/phos.csv\", \"T\")\n",
    "    del y\n",
    "    print(\"x\", i)\n",
    "    x = Predictor()\n",
    "    x.load_data(file=\"Data/Training/clean_t.csv\")\n",
    "    x.process_data(vector_function=\"chemical\", amino_acid=\"T\", imbalance_function=i, random_data=1)\n",
    "    x.supervised_training(\"mlp_adam\")\n",
    "    x.benchmark(\"Data/Benchmarks/phos.csv\", \"T\")\n",
    "    del x\n"
   ]
  },
  {
   "cell_type": "code",
   "execution_count": null,
   "metadata": {
    "collapsed": true
   },
   "outputs": [],
   "source": []
  }
 ],
 "metadata": {
  "kernelspec": {
   "display_name": "Python 3",
   "language": "python",
   "name": "python3"
  },
  "language_info": {
   "codemirror_mode": {
    "name": "ipython",
    "version": 3
   },
   "file_extension": ".py",
   "mimetype": "text/x-python",
   "name": "python",
   "nbconvert_exporter": "python",
   "pygments_lexer": "ipython3",
   "version": "3.6.2"
  }
 },
 "nbformat": 4,
 "nbformat_minor": 2
}
