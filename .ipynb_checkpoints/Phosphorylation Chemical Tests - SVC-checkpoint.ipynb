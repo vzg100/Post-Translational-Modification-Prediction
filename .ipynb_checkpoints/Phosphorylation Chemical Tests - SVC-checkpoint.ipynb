{
 "cells": [
  {
   "cell_type": "markdown",
   "metadata": {},
   "source": [
    "Template for test"
   ]
  },
  {
   "cell_type": "code",
   "execution_count": 1,
   "metadata": {
    "collapsed": true
   },
   "outputs": [],
   "source": [
    "from pred import Predictor\n",
    "from pred import sequence_vector\n",
    "from pred import chemical_vector"
   ]
  },
  {
   "cell_type": "markdown",
   "metadata": {},
   "source": [
    "Controlling for Random Negatve vs Sans Random in Imbalanced Techniques using S, T, and Y Phosphorylation.\n",
    "\n",
    "Included is N Phosphorylation however no benchmarks are available, yet. \n",
    "\n",
    "\n",
    "Training data is from phospho.elm and benchmarks are from dbptm. "
   ]
  },
  {
   "cell_type": "code",
   "execution_count": 2,
   "metadata": {},
   "outputs": [
    {
     "name": "stdout",
     "output_type": "stream",
     "text": [
      "y pass\n",
      "Loading Data\n",
      "Loaded Data\n",
      "Working on Data\n",
      "Finished working with Data\n"
     ]
    },
    {
     "ename": "KeyError",
     "evalue": "'SVC'",
     "output_type": "error",
     "traceback": [
      "\u001b[0;31m---------------------------------------------------------------------------\u001b[0m",
      "\u001b[0;31mKeyError\u001b[0m                                  Traceback (most recent call last)",
      "\u001b[0;32m<ipython-input-2-23f42d13dfde>\u001b[0m in \u001b[0;36m<module>\u001b[0;34m()\u001b[0m\n\u001b[1;32m      5\u001b[0m     \u001b[0my\u001b[0m\u001b[0;34m.\u001b[0m\u001b[0mload_data\u001b[0m\u001b[0;34m(\u001b[0m\u001b[0mfile\u001b[0m\u001b[0;34m=\u001b[0m\u001b[0;34m\"Data/Training/clean_s.csv\"\u001b[0m\u001b[0;34m)\u001b[0m\u001b[0;34m\u001b[0m\u001b[0m\n\u001b[1;32m      6\u001b[0m     \u001b[0my\u001b[0m\u001b[0;34m.\u001b[0m\u001b[0mprocess_data\u001b[0m\u001b[0;34m(\u001b[0m\u001b[0mvector_function\u001b[0m\u001b[0;34m=\u001b[0m\u001b[0;34m\"chemical\"\u001b[0m\u001b[0;34m,\u001b[0m \u001b[0mamino_acid\u001b[0m\u001b[0;34m=\u001b[0m\u001b[0;34m\"S\"\u001b[0m\u001b[0;34m,\u001b[0m \u001b[0mimbalance_function\u001b[0m\u001b[0;34m=\u001b[0m\u001b[0mi\u001b[0m\u001b[0;34m,\u001b[0m \u001b[0mrandom_data\u001b[0m\u001b[0;34m=\u001b[0m\u001b[0;36m0\u001b[0m\u001b[0;34m)\u001b[0m\u001b[0;34m\u001b[0m\u001b[0m\n\u001b[0;32m----> 7\u001b[0;31m     \u001b[0my\u001b[0m\u001b[0;34m.\u001b[0m\u001b[0msupervised_training\u001b[0m\u001b[0;34m(\u001b[0m\u001b[0;34m\"SVC\"\u001b[0m\u001b[0;34m)\u001b[0m\u001b[0;34m\u001b[0m\u001b[0m\n\u001b[0m\u001b[1;32m      8\u001b[0m     \u001b[0my\u001b[0m\u001b[0;34m.\u001b[0m\u001b[0mbenchmark\u001b[0m\u001b[0;34m(\u001b[0m\u001b[0;34m\"Data/Benchmarks/phos.csv\"\u001b[0m\u001b[0;34m,\u001b[0m \u001b[0;34m\"S\"\u001b[0m\u001b[0;34m)\u001b[0m\u001b[0;34m\u001b[0m\u001b[0m\n\u001b[1;32m      9\u001b[0m     \u001b[0;32mdel\u001b[0m \u001b[0my\u001b[0m\u001b[0;34m\u001b[0m\u001b[0m\n",
      "\u001b[0;32m~/PycharmProjects/Post-Translational-Modification-Prediction/pred.py\u001b[0m in \u001b[0;36msupervised_training\u001b[0;34m(self, classy, scale, break_point)\u001b[0m\n\u001b[1;32m    459\u001b[0m         \"\"\"\n\u001b[1;32m    460\u001b[0m         \u001b[0mself\u001b[0m\u001b[0;34m.\u001b[0m\u001b[0mfeatures\u001b[0m \u001b[0;34m=\u001b[0m \u001b[0mlist\u001b[0m\u001b[0;34m(\u001b[0m\u001b[0mself\u001b[0m\u001b[0;34m.\u001b[0m\u001b[0mfeatures\u001b[0m\u001b[0;34m)\u001b[0m\u001b[0;34m\u001b[0m\u001b[0m\n\u001b[0;32m--> 461\u001b[0;31m         \u001b[0mself\u001b[0m\u001b[0;34m.\u001b[0m\u001b[0mclassifier\u001b[0m \u001b[0;34m=\u001b[0m \u001b[0mself\u001b[0m\u001b[0;34m.\u001b[0m\u001b[0msupervised_classifiers\u001b[0m\u001b[0;34m[\u001b[0m\u001b[0mclassy\u001b[0m\u001b[0;34m]\u001b[0m\u001b[0;34m\u001b[0m\u001b[0m\n\u001b[0m\u001b[1;32m    462\u001b[0m         \u001b[0mtemp\u001b[0m \u001b[0;34m=\u001b[0m \u001b[0mlist\u001b[0m\u001b[0;34m(\u001b[0m\u001b[0mzip\u001b[0m\u001b[0;34m(\u001b[0m\u001b[0mself\u001b[0m\u001b[0;34m.\u001b[0m\u001b[0mfeatures\u001b[0m\u001b[0;34m,\u001b[0m \u001b[0mself\u001b[0m\u001b[0;34m.\u001b[0m\u001b[0mlabels\u001b[0m\u001b[0;34m)\u001b[0m\u001b[0;34m)\u001b[0m\u001b[0;34m\u001b[0m\u001b[0m\n\u001b[1;32m    463\u001b[0m         \u001b[0mrandom\u001b[0m\u001b[0;34m.\u001b[0m\u001b[0mshuffle\u001b[0m\u001b[0;34m(\u001b[0m\u001b[0mtemp\u001b[0m\u001b[0;34m)\u001b[0m\u001b[0;34m\u001b[0m\u001b[0m\n",
      "\u001b[0;31mKeyError\u001b[0m: 'SVC'"
     ]
    }
   ],
   "source": [
    "par = [\"pass\", \"ADASYN\", \"SMOTEENN\", \"random_under_sample\", \"ncl\", \"near_miss\"]\n",
    "for i in par:\n",
    "    print(\"y\", i)\n",
    "    y = Predictor()\n",
    "    y.load_data(file=\"Data/Training/clean_s.csv\")\n",
    "    y.process_data(vector_function=\"chemical\", amino_acid=\"S\", imbalance_function=i, random_data=0)\n",
    "    y.supervised_training(\"svc\")\n",
    "    y.benchmark(\"Data/Benchmarks/phos.csv\", \"S\")\n",
    "    del y\n",
    "    print(\"x\", i)\n",
    "    x = Predictor()\n",
    "    x.load_data(file=\"Data/Training/clean_s.csv\")\n",
    "    x.process_data(vector_function=\"chemical\", amino_acid=\"S\", imbalance_function=i, random_data=1)\n",
    "    x.supervised_training(\"svc\")\n",
    "    x.benchmark(\"Data/Benchmarks/phos.csv\", \"S\")\n",
    "    del x\n"
   ]
  },
  {
   "cell_type": "markdown",
   "metadata": {},
   "source": [
    "Y Phosphorylation "
   ]
  },
  {
   "cell_type": "code",
   "execution_count": null,
   "metadata": {},
   "outputs": [],
   "source": [
    "par = [\"pass\", \"ADASYN\", \"SMOTEENN\", \"random_under_sample\", \"ncl\", \"near_miss\"]\n",
    "for i in par:\n",
    "    print(\"y\", i)\n",
    "    y = Predictor()\n",
    "    y.load_data(file=\"Data/Training/clean_Y.csv\")\n",
    "    y.process_data(vector_function=\"chemical\", amino_acid=\"Y\", imbalance_function=i, random_data=0)\n",
    "    y.supervised_training(\"svc\")\n",
    "    y.benchmark(\"Data/Benchmarks/phos.csv\", \"Y\")\n",
    "    del y\n",
    "    print(\"x\", i)\n",
    "    x = Predictor()\n",
    "    x.load_data(file=\"Data/Training/clean_Y.csv\")\n",
    "    x.process_data(vector_function=\"chemical\", amino_acid=\"Y\", imbalance_function=i, random_data=1)\n",
    "    x.supervised_training(\"svc\")\n",
    "    x.benchmark(\"Data/Benchmarks/phos.csv\", \"Y\")\n",
    "    del x\n"
   ]
  },
  {
   "cell_type": "markdown",
   "metadata": {},
   "source": [
    "T Phosphorylation "
   ]
  },
  {
   "cell_type": "code",
   "execution_count": null,
   "metadata": {},
   "outputs": [],
   "source": [
    "par = [\"pass\", \"ADASYN\", \"SMOTEENN\", \"random_under_sample\", \"ncl\", \"near_miss\"]\n",
    "for i in par:\n",
    "    print(\"y\", i)\n",
    "    y = Predictor()\n",
    "    y.load_data(file=\"Data/Training/clean_t.csv\")\n",
    "    y.process_data(vector_function=\"chemical\", amino_acid=\"T\", imbalance_function=i, random_data=0)\n",
    "    y.supervised_training(\"svc\")\n",
    "    y.benchmark(\"Data/Benchmarks/phos.csv\", \"T\")\n",
    "    del y\n",
    "    print(\"x\", i)\n",
    "    x = Predictor()\n",
    "    x.load_data(file=\"Data/Training/clean_t.csv\")\n",
    "    x.process_data(vector_function=\"chemical\", amino_acid=\"T\", imbalance_function=i, random_data=1)\n",
    "    x.supervised_training(\"svc\")\n",
    "    x.benchmark(\"Data/Benchmarks/phos.csv\", \"T\")\n",
    "    del x\n"
   ]
  },
  {
   "cell_type": "code",
   "execution_count": null,
   "metadata": {
    "collapsed": true
   },
   "outputs": [],
   "source": []
  }
 ],
 "metadata": {
  "kernelspec": {
   "display_name": "Python 3",
   "language": "python",
   "name": "python3"
  },
  "language_info": {
   "codemirror_mode": {
    "name": "ipython",
    "version": 3
   },
   "file_extension": ".py",
   "mimetype": "text/x-python",
   "name": "python",
   "nbconvert_exporter": "python",
   "pygments_lexer": "ipython3",
   "version": "3.6.2"
  }
 },
 "nbformat": 4,
 "nbformat_minor": 2
}
