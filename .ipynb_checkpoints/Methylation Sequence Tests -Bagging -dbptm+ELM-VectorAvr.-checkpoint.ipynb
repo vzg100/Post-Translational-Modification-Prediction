{
 "cells": [
  {
   "cell_type": "markdown",
   "metadata": {},
   "source": [
    "Template for test"
   ]
  },
  {
   "cell_type": "code",
   "execution_count": null,
   "metadata": {},
   "outputs": [
    {
     "name": "stderr",
     "output_type": "stream",
     "text": [
      "/Users/mark/anaconda3/lib/python3.6/site-packages/sklearn/cross_validation.py:44: DeprecationWarning: This module was deprecated in version 0.18 in favor of the model_selection module into which all the refactored classes and functions are moved. Also note that the interface of the new CV iterators are different from that of this module. This module will be removed in 0.20.\n",
      "  \"This module will be removed in 0.20.\", DeprecationWarning)\n"
     ]
    }
   ],
   "source": [
    "from pred import Predictor\n",
    "from pred import sequence_vector\n",
    "from pred import chemical_vector"
   ]
  },
  {
   "cell_type": "markdown",
   "metadata": {},
   "source": [
    "Controlling for Random Negatve vs Sans Random in Imbalanced Techniques using S, T, and Y Phosphorylation.\n",
    "\n",
    "Included is N Phosphorylation however no benchmarks are available, yet. \n",
    "\n",
    "\n",
    "Training data is from phospho.elm and benchmarks are from dbptm. \n",
    "\n",
    "Note: SMOTEEN seems to preform best"
   ]
  },
  {
   "cell_type": "code",
   "execution_count": null,
   "metadata": {
    "scrolled": false
   },
   "outputs": [
    {
     "name": "stdout",
     "output_type": "stream",
     "text": [
      "y pass\n",
      "Loading Data\n",
      "Loaded Data\n",
      "Working on Data\n",
      "Sample Vector [16, 7, 11, 8, 7, 17, 7, 10, 3, 9, 10, 10, 15, -2.146153846153846, 91.16923076923078, 0.07692307692307693]\n",
      "Finished working with Data\n",
      "Training Data Points: 263216\n",
      "Test Data Points: 65804\n",
      "Starting Training\n",
      "Done training\n",
      "Test Results\n",
      "Sensitivity: 0.013174404015056462\n",
      "Specificity : 0.9991901572963713\n",
      "Accuracy: 0.9753054525560756\n",
      "ROC 0.506182280656\n",
      "TP 21 FP 52 TN 64158 FN 1573\n",
      "\n",
      "\n",
      "\n",
      "None\n",
      "Cross Validation: [ 0.97506269  0.97539663  0.97524467  0.97516868  0.97498594]\n",
      "Number of data points in benchmark 39422\n",
      "Benchmark Results \n",
      "Sensitivity: 0.10329807093963908\n",
      "Specificity : 0.9969896155545735\n",
      "Accuracy: 0.9241286591243468\n",
      "ROC 0.550143843247\n",
      "TP 332 FP 109 TN 36099 FN 2882\n",
      "\n",
      "\n",
      "\n",
      "None\n",
      "x pass\n",
      "Loading Data\n",
      "Loaded Data\n",
      "Working on Data\n",
      "Sample Vector [1, 9, 9, 13, 3, 17, 7, 20, 9, 12, 3, 12, 17, -0.3076923076923076, 87.76923076923079, 0.0]\n",
      "Finished working with Data\n",
      "Training Data Points: 263216\n",
      "Test Data Points: 65804\n",
      "Starting Training\n",
      "Done training\n",
      "Test Results\n",
      "Sensitivity: 0.01256281407035176\n",
      "Specificity : 0.9993459166510933\n",
      "Accuracy: 0.9754726156464653\n",
      "ROC 0.505954365361\n",
      "TP 20 FP 42 TN 64170 FN 1572\n",
      "\n",
      "\n",
      "\n",
      "None\n",
      "Cross Validation: [ 0.97494111  0.97532065  0.97513829  0.97530545  0.97506193]\n",
      "Number of data points in benchmark 39422\n",
      "Benchmark Results \n",
      "Sensitivity: 0.09925326695706285\n",
      "Specificity : 0.9970172337604949\n",
      "Accuracy: 0.9238242605651666\n",
      "ROC 0.548135250359\n",
      "TP 319 FP 108 TN 36100 FN 2895\n",
      "\n",
      "\n",
      "\n",
      "None\n",
      "y ADASYN\n",
      "Loading Data\n",
      "Loaded Data\n",
      "Working on Data\n",
      "Sample Vector [12, 15, 8, 7, 13, 7, 7, 1, 9, 20, 12, 20, 3, -0.3923076923076922, -28.492307692307698, 0.07692307692307693]\n",
      "Balancing Data\n"
     ]
    }
   ],
   "source": [
    "par = [\"pass\", \"ADASYN\", \"SMOTEENN\", \"random_under_sample\", \"ncl\", \"near_miss\"]\n",
    "for i in par:\n",
    "    print(\"y\", i)\n",
    "    y = Predictor()\n",
    "    y.load_data(file=\"Data/Training/k_acetylation.csv\")\n",
    "    y.process_data(vector_function=\"sequence\", amino_acid=\"K\", imbalance_function=i, random_data=0)\n",
    "    y.supervised_training(\"bagging\")\n",
    "    y.benchmark(\"Data/Benchmarks/acet.csv\", \"K\")\n",
    "    del y\n",
    "    print(\"x\", i)\n",
    "    x = Predictor()\n",
    "    x.load_data(file=\"Data/Training/k_acetylation.csv\")\n",
    "    x.process_data(vector_function=\"sequence\", amino_acid=\"K\", imbalance_function=i, random_data=1)\n",
    "    x.supervised_training(\"bagging\")\n",
    "    x.benchmark(\"Data/Benchmarks/acet.csv\", \"K\")\n",
    "    del x\n"
   ]
  },
  {
   "cell_type": "code",
   "execution_count": null,
   "metadata": {
    "collapsed": true
   },
   "outputs": [],
   "source": []
  }
 ],
 "metadata": {
  "kernelspec": {
   "display_name": "Python 3",
   "language": "python",
   "name": "python3"
  },
  "language_info": {
   "codemirror_mode": {
    "name": "ipython",
    "version": 3
   },
   "file_extension": ".py",
   "mimetype": "text/x-python",
   "name": "python",
   "nbconvert_exporter": "python",
   "pygments_lexer": "ipython3",
   "version": "3.6.2"
  }
 },
 "nbformat": 4,
 "nbformat_minor": 2
}
