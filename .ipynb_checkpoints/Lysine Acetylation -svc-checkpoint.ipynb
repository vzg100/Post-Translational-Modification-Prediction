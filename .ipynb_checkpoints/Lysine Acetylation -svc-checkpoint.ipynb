{
 "cells": [
  {
   "cell_type": "markdown",
   "metadata": {},
   "source": [
    "Template for test"
   ]
  },
  {
   "cell_type": "code",
   "execution_count": null,
   "metadata": {
    "collapsed": true
   },
   "outputs": [],
   "source": [
    "from pred import Predictor\n",
    "from pred import sequence_vector\n",
    "from pred import chemical_vector"
   ]
  },
  {
   "cell_type": "markdown",
   "metadata": {},
   "source": [
    "Controlling for Random Negatve vs Sans Random in Imbalanced Techniques using K acytelation.\n",
    "\n",
    "Training data is from CUCKOO group and benchmarks are from dbptm. "
   ]
  },
  {
   "cell_type": "code",
   "execution_count": null,
   "metadata": {},
   "outputs": [
    {
     "name": "stdout",
     "output_type": "stream",
     "text": [
      "y pass\n",
      "Loading Data\n",
      "Loaded Data\n",
      "Working on Data\n",
      "Finished working with Data\n",
      "Training Data Points: 296118\n",
      "Test Data Points: 32902\n",
      "Starting Training\n",
      "Done training\n",
      "Test Results\n",
      "Sensitivity: 0.006968641114982578\n",
      "Specificity : 0.9997503199026248\n",
      "Accuracy: 0.973770591453407\n",
      "ROC 0.503359480509\n",
      "TP 6 FP 8 TN 32033 FN 855\n",
      "\n",
      "\n",
      "\n",
      "None\n",
      "Number of data points in benchmark 39422\n",
      "Benchmark Results \n",
      "Sensitivity: 0.0821406347230865\n",
      "Specificity : 0.998066725585506\n",
      "Accuracy: 0.9233930292729948\n",
      "ROC 0.540103680154\n",
      "TP 264 FP 70 TN 36138 FN 2950\n",
      "\n",
      "\n",
      "\n",
      "None\n",
      "x pass\n",
      "Loading Data\n",
      "Loaded Data\n",
      "Working on Data\n",
      "Finished working with Data\n",
      "Random Sequences Generated 329020\n",
      "Filtering Random Data\n",
      "Random Data Added: 329020\n",
      "Finished with Random Data\n",
      "Training Data Points: 625138\n",
      "Test Data Points: 32902\n",
      "Starting Training\n",
      "Done training\n",
      "Test Results\n",
      "Sensitivity: 0.012180267965895249\n",
      "Specificity : 0.9997506312147377\n",
      "Accuracy: 0.9751078961765243\n",
      "ROC 0.50596544959\n",
      "TP 10 FP 8 TN 32073 FN 811\n",
      "\n",
      "\n",
      "\n",
      "None\n",
      "Number of data points in benchmark 39422\n",
      "Benchmark Results \n",
      "Sensitivity: 0.09054138145612943\n",
      "Specificity : 0.9976800707026071\n",
      "Accuracy: 0.9237227943787732\n",
      "ROC 0.544110726079\n",
      "TP 291 FP 84 TN 36124 FN 2923\n",
      "\n",
      "\n",
      "\n",
      "None\n",
      "y ADASYN\n",
      "Loading Data\n",
      "Loaded Data\n",
      "Working on Data\n",
      "Balancing Data\n",
      "Balanced Data\n",
      "Finished working with Data\n",
      "Training Data Points: 576608\n",
      "Test Data Points: 64068\n",
      "Starting Training\n",
      "Done training\n",
      "Test Results\n",
      "Sensitivity: 0.9761384221375476\n",
      "Specificity : 0.9990327613104524\n",
      "Accuracy: 0.9875913092339389\n",
      "ROC 0.987585591724\n",
      "TP 31254 FP 31 TN 32019 FN 764\n",
      "\n",
      "\n",
      "\n",
      "None\n",
      "Number of data points in benchmark 39422\n",
      "Benchmark Results \n",
      "Sensitivity: 0.11449906658369632\n",
      "Specificity : 0.9970172337604949\n",
      "Accuracy: 0.9250672213484856\n",
      "ROC 0.555758150172\n",
      "TP 368 FP 108 TN 36100 FN 2846\n",
      "\n",
      "\n",
      "\n",
      "None\n",
      "x ADASYN\n",
      "Loading Data\n",
      "Loaded Data\n",
      "Working on Data\n",
      "Balancing Data\n"
     ]
    }
   ],
   "source": [
    "par = [\"pass\", \"ADASYN\", \"SMOTEENN\", \"random_under_sample\", \"ncl\", \"near_miss\"]\n",
    "for i in par:\n",
    "    print(\"y\", i)\n",
    "    y = Predictor()\n",
    "    y.load_data(file=\"Data/Training/k_acetylation.csv\")\n",
    "    y.process_data(vector_function=\"sequence\", amino_acid=\"K\", imbalance_function=i, random_data=0)\n",
    "    y.supervised_training(\"svc\")\n",
    "    y.benchmark(\"Data/Benchmarks/acet.csv\", \"K\")\n",
    "    del y\n",
    "    print(\"x\", i)\n",
    "    x = Predictor()\n",
    "    x.load_data(file=\"Data/Training/k_acetylation.csv\")\n",
    "    x.process_data(vector_function=\"sequence\", amino_acid=\"K\", imbalance_function=i, random_data=1)\n",
    "    x.supervised_training(\"svc\")\n",
    "    x.benchmark(\"Data/Benchmarks/acet.csv\", \"K\")\n",
    "    del x\n"
   ]
  },
  {
   "cell_type": "markdown",
   "metadata": {},
   "source": [
    "Chemical Vector "
   ]
  },
  {
   "cell_type": "code",
   "execution_count": null,
   "metadata": {
    "collapsed": true
   },
   "outputs": [],
   "source": [
    "par = [\"pass\", \"ADASYN\", \"SMOTEENN\", \"random_under_sample\", \"ncl\", \"near_miss\"]\n",
    "for i in par:\n",
    "    print(\"y\", i)\n",
    "    y = Predictor()\n",
    "    y.load_data(file=\"Data/Training/k_acetylation.csv\")\n",
    "    y.process_data(vector_function=\"chemical\", amino_acid=\"K\", imbalance_function=i, random_data=0)\n",
    "    y.supervised_training(\"svc\")\n",
    "    y.benchmark(\"Data/Benchmarks/acet.csv\", \"K\")\n",
    "    del y\n",
    "    print(\"x\", i)\n",
    "    x = Predictor()\n",
    "    x.load_data(file=\"Data/Training/k_acetylation.csv\")\n",
    "    x.process_data(vector_function=\"chemical\", amino_acid=\"K\", imbalance_function=i, random_data=1)\n",
    "    x.supervised_training(\"svc\")\n",
    "    x.benchmark(\"Data/Benchmarks/acet.csv\", \"K\")\n",
    "    del x\n"
   ]
  }
 ],
 "metadata": {
  "kernelspec": {
   "display_name": "Python 3",
   "language": "python",
   "name": "python3"
  },
  "language_info": {
   "codemirror_mode": {
    "name": "ipython",
    "version": 3
   },
   "file_extension": ".py",
   "mimetype": "text/x-python",
   "name": "python",
   "nbconvert_exporter": "python",
   "pygments_lexer": "ipython3",
   "version": "3.6.2"
  }
 },
 "nbformat": 4,
 "nbformat_minor": 2
}
